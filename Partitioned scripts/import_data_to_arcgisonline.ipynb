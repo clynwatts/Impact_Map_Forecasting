{
 "cells": [
  {
   "cell_type": "markdown",
   "metadata": {},
   "source": [
    "# Import Data to the online web app\n",
    "\n",
    "This is the notebook to update the arcgis instant app\n",
    "This requires arcpy as a package\n",
    "Before running this notebook, you should have already set up the acrGIS instant app. This notebook only replaces the shapefile already in the map, it does nto create a new map"
   ]
  },
  {
   "cell_type": "code",
   "execution_count": 1,
   "metadata": {},
   "outputs": [],
   "source": [
    "from arcgis.gis import GIS\n",
    "import os"
   ]
  },
  {
   "cell_type": "markdown",
   "metadata": {},
   "source": [
    "To create the GIS object, we pass your profile that contains the url and your login credentials. Please replace the credentials below with that of your org. \n",
    "To learn more about profiles, see [here](https://developers.arcgis.com/python/guide/working-with-different-authentication-schemes/#Storing-your-credentialls-locally)."
   ]
  },
  {
   "cell_type": "code",
   "execution_count": 2,
   "metadata": {},
   "outputs": [],
   "source": [
    "gis = GIS('home')\n",
    "\n",
    "\n",
    "#If this does not automatically connect, you may need to do this code instead:\n",
    "#gis = GIS(\n",
    "#  url=\"https://www.arcgis.com\",\n",
    "#  username=\"username\",\n",
    "#  password=getpass.getpass(\"Enter password:\")\n",
    "#)\n",
    "\n",
    "# or do this:\n",
    "# gis = GIS(\"https://www.arcgis.com\", \"your_username\", \"your_password\")"
   ]
  },
  {
   "cell_type": "markdown",
   "metadata": {},
   "source": [
    "## Delete the former shapefile so we can upload the new one"
   ]
  },
  {
   "cell_type": "code",
   "execution_count": 9,
   "metadata": {},
   "outputs": [
    {
     "data": {
      "text/plain": [
       "[<Item title:\"FIM\" type:Feature Layer Collection owner:cwatts_UMass_Amherst>]"
      ]
     },
     "metadata": {},
     "output_type": "display_data"
    }
   ],
   "source": [
    "# search for the layer id\n",
    "search_result = gis.content.search('title:FIM', item_type = 'Feature Service')\n",
    "display(search_result)"
   ]
  },
  {
   "cell_type": "code",
   "execution_count": 10,
   "metadata": {},
   "outputs": [
    {
     "data": {
      "text/plain": [
       "True"
      ]
     },
     "execution_count": 10,
     "metadata": {},
     "output_type": "execute_result"
    }
   ],
   "source": [
    "# Replace 'item_id' with the actual ID of the item you want to delete\n",
    "item_id = search_result[0].id\n",
    "item_to_delete = gis.content.get(item_id)\n",
    "\n",
    "# Delete the item, remove it permanently is necesary if you have a recycle bin enabled at your organization\n",
    "item_to_delete.delete(permanent=True)"
   ]
  },
  {
   "cell_type": "code",
   "execution_count": 11,
   "metadata": {},
   "outputs": [
    {
     "data": {
      "text/plain": [
       "[<Item title:\"FIM\" type:Shapefile owner:cwatts_UMass_Amherst>]"
      ]
     },
     "metadata": {},
     "output_type": "display_data"
    },
    {
     "data": {
      "text/plain": [
       "True"
      ]
     },
     "execution_count": 11,
     "metadata": {},
     "output_type": "execute_result"
    }
   ],
   "source": [
    "# search for the shapefile ID\n",
    "search_result = gis.content.search('title:FIM', item_type = 'Shapefile')\n",
    "display(search_result)\n",
    "\n",
    "# Replace 'item_id' with the actual ID of the item you want to delete\n",
    "item_id = search_result[0].id\n",
    "item_to_delete = gis.content.get(item_id)\n",
    "\n",
    "# Delete the item, remove it permanently is necesary if you have a recycle bin enabled at your organization\n",
    "item_to_delete.delete(permanent=True)\n"
   ]
  },
  {
   "cell_type": "markdown",
   "metadata": {},
   "source": [
    "## upload the new shapefile to ArcGIS Online\n",
    "edit the metadata with the title and tags of the file. the path must lead to a zip file"
   ]
  },
  {
   "cell_type": "code",
   "execution_count": 13,
   "metadata": {},
   "outputs": [
    {
     "name": "stdout",
     "output_type": "stream",
     "text": [
      "2024-07-12 14:09:02.594439\n"
     ]
    }
   ],
   "source": [
    "# get datetime to tag the fiel name\n",
    "from datetime import datetime\n",
    "\n",
    "current_datetime = datetime.now()\n",
    "print(current_datetime)\n",
    "\n",
    "# Format the datetime as a string (e.g., \"2023-04-01 12:00\")\n",
    "formatted_datetime = current_datetime.strftime('%Y-%m-%d %H:%M')"
   ]
  },
  {
   "cell_type": "code",
   "execution_count": 14,
   "metadata": {},
   "outputs": [],
   "source": [
    "# edit the dictionary with the title and tags you want\n",
    "metadata = {\n",
    "    'title': f'FIM {formatted_datetime}',\n",
    "    'tags': 'Flood Forecast, 5 Days, Inundation, National Water Model',\n",
    "    'type': 'Shapefile'\n",
    "}\n",
    "data_path = os.path.join('C:/Users/Lyn/Desktop/Berylb.zip')\n"
   ]
  },
  {
   "cell_type": "code",
   "execution_count": 15,
   "metadata": {},
   "outputs": [],
   "source": [
    "shapefile = gis.content.add(metadata, data=data_path)"
   ]
  },
  {
   "cell_type": "code",
   "execution_count": 16,
   "metadata": {},
   "outputs": [],
   "source": [
    "feature_layer = shapefile.publish()"
   ]
  },
  {
   "cell_type": "code",
   "execution_count": 17,
   "metadata": {},
   "outputs": [
    {
     "data": {
      "text/plain": [
       "'https://services.arcgis.com/2gdL2gxYNFY2TOUb/arcgis/rest/services/Berylb/FeatureServer'"
      ]
     },
     "execution_count": 17,
     "metadata": {},
     "output_type": "execute_result"
    }
   ],
   "source": [
    "feature_layer.url"
   ]
  },
  {
   "cell_type": "markdown",
   "metadata": {},
   "source": [
    "##  Add the layer to the webmap Instant App"
   ]
  },
  {
   "cell_type": "code",
   "execution_count": 22,
   "metadata": {},
   "outputs": [],
   "source": [
    "from arcgis.mapping import WebMap, WebScene\n",
    "from IPython.display import display\n",
    "import json\n",
    "\n",
    "\n",
    "# ID the web map you want to alter\n",
    "search_result = gis.content.search(\"title:Flood Forecast Houston\", item_type = \"Web Map\")\n",
    "\n",
    "# read the webmap as an object\n",
    "wm_item = search_result[0]\n",
    "web_map_obj = WebMap(wm_item)\n",
    "\n"
   ]
  },
  {
   "cell_type": "code",
   "execution_count": 23,
   "metadata": {},
   "outputs": [
    {
     "name": "stdout",
     "output_type": "stream",
     "text": [
      "Beryl https://services.arcgis.com/2gdL2gxYNFY2TOUb/arcgis/rest/services/Beryla/FeatureServer/0\n",
      "Beryl https://services.arcgis.com/2gdL2gxYNFY2TOUb/arcgis/rest/services/Beryla/FeatureServer/0\n",
      "Beryl https://services.arcgis.com/2gdL2gxYNFY2TOUb/arcgis/rest/services/Beryla/FeatureServer/0\n"
     ]
    }
   ],
   "source": [
    "# check the layers on the web map\n",
    "for lyr in web_map_obj.layers:\n",
    "    print(lyr.title + \" \" + lyr.url)"
   ]
  },
  {
   "cell_type": "code",
   "execution_count": 24,
   "metadata": {},
   "outputs": [
    {
     "data": {
      "text/plain": [
       "'2c0af85fc05541d9a429be84e9c9e7be'"
      ]
     },
     "execution_count": 24,
     "metadata": {},
     "output_type": "execute_result"
    }
   ],
   "source": [
    "# Feature service item id for the missing layer:\n",
    "web_map_obj.layers[0][\"itemId\"]"
   ]
  },
  {
   "cell_type": "markdown",
   "metadata": {},
   "source": [
    "to do: have the title change automatically to fit the title above"
   ]
  },
  {
   "cell_type": "code",
   "execution_count": 25,
   "metadata": {},
   "outputs": [
    {
     "data": {
      "text/plain": [
       "[<Item title:\"FIM 2024-07-12 14:09\" type:Feature Layer Collection owner:cwatts_UMass_Amherst>]"
      ]
     },
     "metadata": {},
     "output_type": "display_data"
    },
    {
     "data": {
      "text/plain": [
       "'d0f6e18ccee14e6abf88898bb2068cb2'"
      ]
     },
     "execution_count": 25,
     "metadata": {},
     "output_type": "execute_result"
    }
   ],
   "source": [
    "\n",
    "# search for the newly uploaded layer\n",
    "search_result = gis.content.search('title:Berylb', item_type = 'Feature Service')\n",
    "display(search_result)\n",
    "\n",
    "# check the item id\n",
    "search_result[0].id"
   ]
  },
  {
   "cell_type": "code",
   "execution_count": 26,
   "metadata": {},
   "outputs": [
    {
     "data": {
      "text/plain": [
       "[<FeatureLayer url:\"https://services.arcgis.com/2gdL2gxYNFY2TOUb/arcgis/rest/services/Berylb/FeatureServer/0\">]"
      ]
     },
     "execution_count": 26,
     "metadata": {},
     "output_type": "execute_result"
    }
   ],
   "source": [
    "# update the web map with the new layer\n",
    "capitals = search_result[0]\n",
    "capitals.layers"
   ]
  },
  {
   "cell_type": "markdown",
   "metadata": {},
   "source": [
    "to do: edit the title to match above"
   ]
  },
  {
   "cell_type": "code",
   "execution_count": 27,
   "metadata": {},
   "outputs": [
    {
     "name": "stdout",
     "output_type": "stream",
     "text": [
      "Beryl https://services.arcgis.com/2gdL2gxYNFY2TOUb/arcgis/rest/services/Beryla/FeatureServer/0\n",
      "Beryl https://services.arcgis.com/2gdL2gxYNFY2TOUb/arcgis/rest/services/Beryla/FeatureServer/0\n",
      "Berylb https://services.arcgis.com/2gdL2gxYNFY2TOUb/arcgis/rest/services/Berylb/FeatureServer/0\n"
     ]
    },
    {
     "data": {
      "text/plain": [
       "True"
      ]
     },
     "execution_count": 27,
     "metadata": {},
     "output_type": "execute_result"
    }
   ],
   "source": [
    "# The new feature service does have a layer with id 0. Hence we can use the same layer id while switching the url. \n",
    "# To remove the old layer, call remove_layer() method. \n",
    "# Then add the correct FeatureLayer object by calling the add_layer() method on the WebMap object.\n",
    "\n",
    "# remove the old layer from the web map\n",
    "web_map_obj.remove_layer(web_map_obj.layers[0])\n",
    "\n",
    "# add the correct layer. While adding you can customize the title\n",
    "web_map_obj.add_layer(capitals.layers[0], options={'title':'Berylb'})\n",
    "\n",
    "#check the layers on the web map\n",
    "for lyr in web_map_obj.layers:\n",
    "    print(lyr.title + \" \" + lyr.url)\n",
    "\n",
    "# update the web map \n",
    "web_map_obj.update(item_properties={'title':'USA Capitals - updated'})\n",
    "\n"
   ]
  },
  {
   "cell_type": "code",
   "execution_count": 28,
   "metadata": {},
   "outputs": [
    {
     "data": {
      "text/plain": [
       "True"
      ]
     },
     "execution_count": 28,
     "metadata": {},
     "output_type": "execute_result"
    }
   ],
   "source": [
    "# Let's clean it up so we can always run this section again\n",
    "wm_item.delete()\n",
    "#new_capitals.delete()\n",
    "#csv_item.delete()"
   ]
  }
 ],
 "metadata": {
  "anaconda-cloud": {},
  "esriNotebookRuntime": {
   "notebookRuntimeName": "ArcGIS Notebook Python 3 Standard",
   "notebookRuntimeVersion": "9.0"
  },
  "kernelspec": {
   "display_name": "Python 3",
   "language": "python",
   "name": "python3"
  },
  "language_info": {
   "codemirror_mode": {
    "name": "ipython",
    "version": 3
   },
   "file_extension": ".py",
   "mimetype": "text/x-python",
   "name": "python",
   "nbconvert_exporter": "python",
   "pygments_lexer": "ipython3",
   "version": "3.11.8"
  }
 },
 "nbformat": 4,
 "nbformat_minor": 2
}
