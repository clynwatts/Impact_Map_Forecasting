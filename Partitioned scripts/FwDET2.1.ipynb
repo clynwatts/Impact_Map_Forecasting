{
 "cells": [
  {
   "cell_type": "markdown",
   "metadata": {},
   "source": [
    "# Floodwater Depth Estimation Tool (FwDET) version 2.1\n",
    "Program procedure:\n",
    " 1. Flood extent polygon to polyline\n",
    " 2. Polyline to Raster - DEM extent and resolution (Env)\n",
    " 3. Con - DEM values to Raster\n",
    " 4. Euclidean Allocation - assign boundary cell elevation to nearest domain cells\n",
    " 5. Calculate water depth by deducting DEM by Euclidean Allocation\n",
    " 6. Run low-pass Filter\n",
    " \n",
    "Created by Sagy Cohen, Surface Dynamics Modeling Lab, University of Alabama\n",
    "email: sagy.cohen@ua.edu; web: http://sdml.ua.edu\n",
    "\n",
    "## Set input and output variables "
   ]
  },
  {
   "cell_type": "code",
   "execution_count": 3,
   "metadata": {},
   "outputs": [],
   "source": [
    "# use kernel arcgispro-py3 (python 3.9.16)\n",
    "import arcpy"
   ]
  },
  {
   "cell_type": "code",
   "execution_count": 4,
   "metadata": {},
   "outputs": [],
   "source": [
    "arcpy.env.overwriteOutput = True\n",
    "infolder = 'C:/Users/Lyn/Documents/Programming/Python_codes/fwdet/Forecast_test_5day/'\n",
    "\n",
    "# make a geodatabase    \n",
    "gdb_path = infolder \n",
    "# Create the geodatabase\n",
    "arcpy.CreateFileGDB_management(out_folder_path = infolder, out_name='geodatabase.gdb')\n",
    "#workspace\n",
    "ws = arcpy.env.workspace = infolder\n",
    "\n",
    "dem_name = infolder+'Houston_DEM.tif'\n",
    "inund_polygon = 'F:/SI_2024/5day_07182024_smooth.shp'\n",
    "#clip_dem = '' #[Optional] - If empty, the clip_dem will be calculated with the Clip_management function\n",
    "#cost_raster ='' #[Optional] - If empty, the CostRaster will be calculated below\n",
    "WaterDepthOutput = 'WaterDepth_i10_s0p5'\n",
    "iterations = 10\n",
    "SlopeFiltering = True\n",
    "SlopeThreshold = 0.5\n",
    "#WaterDepthOutput = 'WaterDepth_i{0}_s{1}'.format(iterations,SlopeThreshold)"
   ]
  },
  {
   "cell_type": "markdown",
   "metadata": {},
   "source": [
    "## Housekeeping"
   ]
  },
  {
   "cell_type": "code",
   "execution_count": 5,
   "metadata": {},
   "outputs": [
    {
     "ename": "RuntimeError",
     "evalue": "ERROR 000871: Output Raster: Unable to delete the output C:\\Users\\Lyn\\Documents\\Programming\\Python_codes\\fwdet\\Forecast_test_5day\\CostRaster.tif.",
     "output_type": "error",
     "traceback": [
      "\u001b[1;31m---------------------------------------------------------------------------\u001b[0m",
      "\u001b[1;31mRuntimeError\u001b[0m                              Traceback (most recent call last)",
      "Cell \u001b[1;32mIn[5], line 8\u001b[0m\n\u001b[0;32m      6\u001b[0m \u001b[38;5;66;03m# Dont run these if cost_raster and clip_dem are already defined above\u001b[39;00m\n\u001b[0;32m      7\u001b[0m cost_raster \u001b[38;5;241m=\u001b[39m (((dem \u001b[38;5;241m<\u001b[39m\u001b[38;5;241m=\u001b[39m \u001b[38;5;241m0\u001b[39m)\u001b[38;5;241m*\u001b[39m\u001b[38;5;241m999\u001b[39m)\u001b[38;5;241m+\u001b[39m\u001b[38;5;241m1\u001b[39m)\n\u001b[1;32m----> 8\u001b[0m cost_raster\u001b[38;5;241m.\u001b[39msave(\u001b[38;5;124m'\u001b[39m\u001b[38;5;124mCostRaster.tif\u001b[39m\u001b[38;5;124m'\u001b[39m)\n\u001b[0;32m     10\u001b[0m clip_dem \u001b[38;5;241m=\u001b[39m \u001b[38;5;124m'\u001b[39m\u001b[38;5;124mClipDEM\u001b[39m\u001b[38;5;124m'\u001b[39m\n\u001b[0;32m     11\u001b[0m arcpy\u001b[38;5;241m.\u001b[39mmanagement\u001b[38;5;241m.\u001b[39mClip(dem, extent, clip_dem, inund_polygon, nodata_value\u001b[38;5;241m=\u001b[39m \u001b[38;5;124m\"\u001b[39m\u001b[38;5;124m-9999\u001b[39m\u001b[38;5;124m\"\u001b[39m, clipping_geometry\u001b[38;5;241m=\u001b[39m\u001b[38;5;124m\"\u001b[39m\u001b[38;5;124mClippingGeometry\u001b[39m\u001b[38;5;124m\"\u001b[39m, maintain_clipping_extent\u001b[38;5;241m=\u001b[39m\u001b[38;5;124m\"\u001b[39m\u001b[38;5;124mNO_MAINTAIN_EXTENT\u001b[39m\u001b[38;5;124m\"\u001b[39m)\n",
      "\u001b[1;31mRuntimeError\u001b[0m: ERROR 000871: Output Raster: Unable to delete the output C:\\Users\\Lyn\\Documents\\Programming\\Python_codes\\fwdet\\Forecast_test_5day\\CostRaster.tif."
     ]
    }
   ],
   "source": [
    "dem = arcpy.Raster(dem_name)\n",
    "cell_size = dem.meanCellHeight\n",
    "# Proper string representation of dem extent to be accepted by Clip_management method\n",
    "extent = '{} {} {} {}'.format(dem.extent.XMin, dem.extent.YMin, dem.extent.XMax, dem.extent.YMax)\n",
    "\n",
    "# Dont run these if cost_raster and clip_dem are already defined above\n",
    "cost_raster = (((dem <= 0)*999)+1)\n",
    "cost_raster.save('CostRaster.tif')\n",
    "\n",
    "clip_dem = 'ClipDEM'\n",
    "arcpy.management.Clip(dem, extent, clip_dem, inund_polygon, nodata_value= \"-9999\", clipping_geometry=\"ClippingGeometry\", maintain_clipping_extent=\"NO_MAINTAIN_EXTENT\")\n",
    "clip_dem_ras = arcpy.Raster(clip_dem)"
   ]
  },
  {
   "cell_type": "markdown",
   "metadata": {},
   "source": [
    "## Calculate boundary raster "
   ]
  },
  {
   "cell_type": "code",
   "execution_count": null,
   "metadata": {},
   "outputs": [],
   "source": [
    "\n",
    "import arcpy\n",
    "#print('Focal iteration '+str(i+1))\n",
    "arcpy.env.overwriteOutput = True\n",
    "polyline = infolder + '/polyline.shp'\n",
    "arcpy.PolygonToLine_management(inund_polygon, polyline)\n",
    "# Convert polyline to raster\n",
    "with arcpy.EnvManager(snapRaster=clip_dem_ras):\n",
    "    arcpy.conversion.PolylineToRaster(polyline, 'FID', 'linerast15', \"MAXIMUM_LENGTH\", \"NONE\", cell_size)\n",
    "raster_polyline = arcpy.Raster('linerast15')\n",
    "raster_polyline.save(\"rstr_poly\")\n",
    "# The input whose values will be used as the output cell values if the condition is false.\n",
    "inFalseConstant = '#'\n",
    "where_clause = 'VALUE >= 0'\n",
    "#Extract the boundary cells elevation from DEM\n",
    "boundary = arcpy.sa.Con(raster_polyline, dem, inFalseConstant, where_clause)\n",
    "# boundary.save('boundary1')\n",
    "#Smooth boundary raster\n",
    "for i in range(iterations):\n",
    "    OutRasTemp = arcpy.sa.FocalStatistics(boundary, \"Rectangle 5 5 CELL\", 'MEAN', 'DATA')\n",
    "    boundary = arcpy.sa.Con(raster_polyline, OutRasTemp, inFalseConstant, where_clause)\n",
    "    boundary.save('boundary'+str(i+1))\n",
    "#Identify and remove ocean boundary cells\n",
    "OutRasTemp = arcpy.sa.FocalStatistics(dem, 'Circle 2 CELL', 'MINIMUM', 'DATA') \n",
    "whereClause2 = 'VALUE > 0'\n",
    "boundary = arcpy.sa.Con(OutRasTemp, boundary, inFalseConstant, whereClause2)\n",
    "#boundary.save(\"boundaryAfterOcean\")\n",
    "if SlopeFiltering:\n",
    "#calculate topo slope\n",
    "    print('Calculating Slope')\n",
    "    extent_clip = '{} {} {} {}'.format(boundary.extent.XMin, boundary.extent.YMin, boundary.extent.XMax, boundary.extent.YMax)\n",
    "    with arcpy.EnvManager(extent=extent_clip):\n",
    "        out_slope = arcpy.sa.Slope(dem, \"PERCENT_RISE\", 1, \"GEODESIC\", \"METER\")\n",
    "        out_slope.save(\"Slope_m\")\n",
    "#Remove erroneous boundary cells \n",
    "    whereClause_slope = 'VALUE > ' + str(SlopeThreshold)\n",
    "    boundary = arcpy.sa.Con(out_slope, boundary, inFalseConstant, whereClause_slope)\n",
    "boundary.save(\"boundFinal\")\n",
    "print('Finished calculating the boundary raster')"
   ]
  },
  {
   "cell_type": "markdown",
   "metadata": {},
   "source": [
    "## Calculate the water depth raster"
   ]
  },
  {
   "cell_type": "code",
   "execution_count": null,
   "metadata": {},
   "outputs": [],
   "source": [
    "MULTIPLIER = 10000\n",
    "boundary_int = arcpy.sa.Int(boundary * MULTIPLIER)\n",
    "#boundary_int.save(\"boundary_int\")\n",
    "print('Running cost allocation')\n",
    "with arcpy.EnvManager(snapRaster=None, extent=\"DEFAULT\", mask=clip_dem):\n",
    "    cost_alloc = arcpy.sa.CostAllocation(boundary_int, cost_raster, '#', '#', 'Value')\n",
    "\n",
    "# Divide the result from the cost allocation function using the same constant used to create the integer\n",
    "# representation of the boundary\n",
    "cost_alloc = arcpy.sa.Float(cost_alloc) / MULTIPLIER\n",
    "print('Cost Allocation raster generated')\n",
    "print('Calculating estimated water depth')\n",
    "water_depth = (cost_alloc - clip_dem_ras)\n",
    "# Remove estimated water depths below 0 and change them to 0\n",
    "water_depth = arcpy.sa.Con(water_depth > 0, water_depth,\"#\")\n",
    "#water_depth.save(WaterDepthOutput)\n",
    "#print('Floodwater depth computed')\n",
    "#water_depth"
   ]
  },
  {
   "cell_type": "markdown",
   "metadata": {},
   "source": [
    "## Calculate smooth water depth raster (low-pass filter)"
   ]
  },
  {
   "cell_type": "code",
   "execution_count": null,
   "metadata": {},
   "outputs": [],
   "source": [
    "#Run a low-pass filter\n",
    "print('Running low-pass Filter')\n",
    "water_depth_filtered = arcpy.sa.Filter(water_depth, 'LOW', 'DATA')\n",
    "waterDepthFilter2 = arcpy.sa.Con(clip_dem_ras, water_depth_filtered, '#', 'VALUE > 0')\n",
    "#waterDepthFilter2.save(WaterDepthOutput+'_filtered')\n",
    "print('Finished low-pass Filter calculation')\n",
    "waterDepthFilter2"
   ]
  },
  {
   "cell_type": "code",
   "execution_count": null,
   "metadata": {},
   "outputs": [],
   "source": [
    "%pip install rasterio"
   ]
  },
  {
   "cell_type": "code",
   "execution_count": null,
   "metadata": {},
   "outputs": [],
   "source": [
    "# Save the waterDepthFilter2 raster to a file\n",
    "waterDepthFilter2.save(infolder+\"waterdepth.tif\")"
   ]
  }
 ],
 "metadata": {
  "kernelspec": {
   "display_name": "Python 3",
   "language": "python",
   "name": "python3"
  },
  "language_info": {
   "codemirror_mode": {
    "name": "ipython",
    "version": 3
   },
   "file_extension": ".py",
   "mimetype": "text/x-python",
   "name": "python",
   "nbconvert_exporter": "python",
   "pygments_lexer": "ipython3",
   "version": "3.11.8"
  }
 },
 "nbformat": 4,
 "nbformat_minor": 2
}
