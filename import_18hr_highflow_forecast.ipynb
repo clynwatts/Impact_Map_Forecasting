{
 "cells": [
  {
   "cell_type": "code",
   "execution_count": null,
   "metadata": {},
   "outputs": [],
   "source": [
    "# edit code so that it runs automatically every hour\n",
    "# use python.12.4 kernel"
   ]
  },
  {
   "cell_type": "code",
   "execution_count": null,
   "metadata": {},
   "outputs": [],
   "source": [
    "import contextily as ctx\n"
   ]
  },
  {
   "cell_type": "code",
   "execution_count": null,
   "metadata": {},
   "outputs": [],
   "source": [
    "import requests\n",
    "import geopandas as gpd\n",
    "\n",
    "# Construct the query URL\n",
    "query_url = \"https://maps.water.noaa.gov/server/rest/services/nwm/srf_18hr_max_high_flow_magnitude/MapServer/0/query\"\n",
    "params = {\n",
    "    'where': '1=1',\n",
    "    'outFields': '*',\n",
    "    'outSR': '4326',  # Specify output spatial reference if needed\n",
    "    'f': 'geojson',  # Request geojson output\n",
    "    'returnGeometry': 'true'\n",
    "}\n",
    "\n",
    "# Make the request\n",
    "response = requests.get(query_url, params=params)\n",
    "\n",
    "# Convert to GeoDataFrame\n",
    "predictions = gpd.GeoDataFrame.from_features(response.json(), crs=\"EPSG:4326\")\n",
    "\n",
    "print(predictions.head())\n"
   ]
  },
  {
   "cell_type": "code",
   "execution_count": null,
   "metadata": {},
   "outputs": [],
   "source": [
    "# Import necessary libraries\n",
    "import matplotlib.pyplot as plt\n",
    "import contextily as ctx\n",
    "\n",
    "# Create a subplot with specified figure size\n",
    "fig, ax = plt.subplots(figsize=(10, 6))\n",
    "\n",
    "# Plot the predictions GeoDataFrame on the created axes object\n",
    "# Ensure to specify the ax parameter to plot on the same axes\n",
    "predictions.plot(ax=ax, color='blue', edgecolor='black')\n",
    "\n",
    "# Add a basemap to the same axes object\n",
    "ctx.add_basemap(ax, source=ctx.providers.CartoDB.Positron)\n",
    "\n",
    "# Adjust x and y axis labels to longitude and latitude\n",
    "ax.set_xlabel('Longitude')\n",
    "ax.set_ylabel('Latitude')\n",
    "\n",
    "# Convert axis labels to degrees and set rotation for better readability\n",
    "ax.set_xticklabels([round(val, 2) for val in ax.get_xticks()], rotation=45)\n",
    "ax.set_yticklabels([round(val, 2) for val in ax.get_yticks()])\n",
    "\n",
    "# Set plot title and labels for axes\n",
    "plt.title('NOAA Water Maps - 5 Day Max Inundation Extent')\n",
    "\n",
    "# Display the combined plot\n",
    "plt.show()"
   ]
  },
  {
   "cell_type": "code",
   "execution_count": null,
   "metadata": {},
   "outputs": [],
   "source": [
    "# Export GeoDataFrame as a Shapefile\n",
    "predictions.to_file(\"C:/Users/Lyn/Documents/Programming/Python_codes/CUAHSI Summer Institute 2024/18hr_highflow_test.shp\")"
   ]
  },
  {
   "cell_type": "markdown",
   "metadata": {},
   "source": [
    "Import usgs current streamflow data to combine with the flood discharge predictions"
   ]
  },
  {
   "cell_type": "code",
   "execution_count": 10,
   "metadata": {},
   "outputs": [],
   "source": [
    "# import from the website and save as a csv (comma seperated) in x location"
   ]
  },
  {
   "cell_type": "code",
   "execution_count": null,
   "metadata": {},
   "outputs": [],
   "source": [
    "# read csv\n",
    "import pandas as pd\n",
    "\n",
    "# Replace 'path/to/your_file.csv' with the actual file path\n",
    "usgs = pd.read_csv('C:/Users/Lyn/Documents/Homework/UMass/CUAHSI_2024/forecastdata/streamflow_texas_06252024.csv')\n",
    "\n",
    "print(df.head())\n",
    "\n",
    "# Remove the header\n",
    "usgs.drop(index=range(0, 29), inplace=True)  # Removes the header\n",
    "print(df.head())"
   ]
  },
  {
   "cell_type": "markdown",
   "metadata": {},
   "source": [
    "If there are empty values in our area of interest, we need to fill them. We will first fill them with usgs data if it exists. the remaining data will be filled with 0s. "
   ]
  },
  {
   "cell_type": "code",
   "execution_count": null,
   "metadata": {},
   "outputs": [],
   "source": [
    "import pandas as pd\n",
    "\n",
    "# Import the file with the feature ids we need to fill in our huc of interest.\n",
    "featureIDs = pd.read_csv('C:/Users/Lyn/Documents/Homework/UMass/CUAHSI_2024/FIM_Harvey/featureID_Houston.csv')\n",
    "featureIDs['feature_id'] = featureIDs['feature_id'].astype('int64')\n",
    "\n",
    "# extract the flow data from the NWM streamflow forecast data\n",
    "maxflowpredictions = predictions[['feature_id', 'max_flow']]\n",
    "# Ensure 'feature_id' in maxflowpredictions is of type int64\n",
    "maxflowpredictions['feature_id'] = maxflowpredictions['feature_id'].astype('int64')\n",
    "\n",
    "# Merge featureIDs with maxflowpredictions based on the 'feature_id' column\n",
    "flowpredictions = pd.merge(featureIDs, maxflowpredictions, on='feature_id', how='left')\n",
    "flowpredictions.fillna(0, inplace=True) # fill all missing values with 0\n",
    "print(flowpredictions)\n"
   ]
  },
  {
   "cell_type": "markdown",
   "metadata": {},
   "source": [
    "transpose the data into a format that can be fed into handfim"
   ]
  },
  {
   "cell_type": "code",
   "execution_count": null,
   "metadata": {},
   "outputs": [],
   "source": [
    "\n",
    "transposed_columns = maxflowpredictions.T\n",
    "\n",
    "# Specify the datetime string you want to use\n",
    "new_datetime = '2024-06-25 12:50:32 EDT'\n",
    "\n",
    "# Rename 'max_flow' to the specified datetime\n",
    "forecastinput = transposed_columns.rename(index={'max_flow': new_datetime})\n",
    "print(forecastinput.head())\n",
    "\n",
    "## export the data to a csv file with the date and time in the filename\n",
    "# Replace invalid filename characters in new_datetime\n",
    "filename_datetime = new_datetime.replace(' ', '_').replace(':', '_')\n",
    "# Format the filename string to include new_datetime\n",
    "filename = f'forecast_input_{filename_datetime}.csv'\n",
    "print(filename)\n",
    "# Export forecastinput as a CSV file with the formatted name\n",
    "forecastinput.to_csv(filename, sep=',', index=True)\n"
   ]
  }
 ],
 "metadata": {
  "kernelspec": {
   "display_name": "Python 3",
   "language": "python",
   "name": "python3"
  },
  "language_info": {
   "codemirror_mode": {
    "name": "ipython",
    "version": 3
   },
   "file_extension": ".py",
   "mimetype": "text/x-python",
   "name": "python",
   "nbconvert_exporter": "python",
   "pygments_lexer": "ipython3",
   "version": "3.12.4"
  }
 },
 "nbformat": 4,
 "nbformat_minor": 2
}
