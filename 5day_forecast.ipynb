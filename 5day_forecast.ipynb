{
 "cells": [
  {
   "cell_type": "markdown",
   "metadata": {},
   "source": [
    "This code (will be) set up to generate a forecasted impact map of a specified area.\n",
    "The area in the example case is Houston, TX\n",
    "The inundation extent is sourced from the National Water Model forecast. \n",
    "Depth model is calculated from the inundation extent and the national 3m DEM\n",
    "The impact map is calculated from the depth and the CDC SVI scores at the census tract scale. "
   ]
  },
  {
   "cell_type": "code",
   "execution_count": null,
   "metadata": {},
   "outputs": [],
   "source": [
    "# edit code so that it runs automatically every hour\n",
    "# use python.12.4 kernel\n",
    "# THIS IS A WORK IN PROGRESS"
   ]
  },
  {
   "cell_type": "code",
   "execution_count": 1,
   "metadata": {},
   "outputs": [
    {
     "name": "stdout",
     "output_type": "stream",
     "text": [
      "Defaulting to user installation because normal site-packages is not writeable\n",
      "Requirement already satisfied: geopandas in c:\\users\\lyn\\appdata\\local\\packages\\pythonsoftwarefoundation.python.3.12_qbz5n2kfra8p0\\localcache\\local-packages\\python312\\site-packages (0.14.4)\n",
      "Requirement already satisfied: requests in c:\\users\\lyn\\appdata\\local\\packages\\pythonsoftwarefoundation.python.3.12_qbz5n2kfra8p0\\localcache\\local-packages\\python312\\site-packages (2.32.3)\n",
      "Requirement already satisfied: fiona>=1.8.21 in c:\\users\\lyn\\appdata\\local\\packages\\pythonsoftwarefoundation.python.3.12_qbz5n2kfra8p0\\localcache\\local-packages\\python312\\site-packages (from geopandas) (1.9.6)\n",
      "Requirement already satisfied: numpy>=1.22 in c:\\users\\lyn\\appdata\\local\\packages\\pythonsoftwarefoundation.python.3.12_qbz5n2kfra8p0\\localcache\\local-packages\\python312\\site-packages (from geopandas) (2.0.0)\n",
      "Requirement already satisfied: packaging in c:\\users\\lyn\\appdata\\local\\packages\\pythonsoftwarefoundation.python.3.12_qbz5n2kfra8p0\\localcache\\local-packages\\python312\\site-packages (from geopandas) (24.1)\n",
      "Requirement already satisfied: pandas>=1.4.0 in c:\\users\\lyn\\appdata\\local\\packages\\pythonsoftwarefoundation.python.3.12_qbz5n2kfra8p0\\localcache\\local-packages\\python312\\site-packages (from geopandas) (2.2.2)\n",
      "Requirement already satisfied: pyproj>=3.3.0 in c:\\users\\lyn\\appdata\\local\\packages\\pythonsoftwarefoundation.python.3.12_qbz5n2kfra8p0\\localcache\\local-packages\\python312\\site-packages (from geopandas) (3.6.1)\n",
      "Requirement already satisfied: shapely>=1.8.0 in c:\\users\\lyn\\appdata\\local\\packages\\pythonsoftwarefoundation.python.3.12_qbz5n2kfra8p0\\localcache\\local-packages\\python312\\site-packages (from geopandas) (2.0.4)\n",
      "Requirement already satisfied: charset-normalizer<4,>=2 in c:\\users\\lyn\\appdata\\local\\packages\\pythonsoftwarefoundation.python.3.12_qbz5n2kfra8p0\\localcache\\local-packages\\python312\\site-packages (from requests) (3.3.2)\n",
      "Requirement already satisfied: idna<4,>=2.5 in c:\\users\\lyn\\appdata\\local\\packages\\pythonsoftwarefoundation.python.3.12_qbz5n2kfra8p0\\localcache\\local-packages\\python312\\site-packages (from requests) (3.7)\n",
      "Requirement already satisfied: urllib3<3,>=1.21.1 in c:\\users\\lyn\\appdata\\local\\packages\\pythonsoftwarefoundation.python.3.12_qbz5n2kfra8p0\\localcache\\local-packages\\python312\\site-packages (from requests) (2.2.1)\n",
      "Requirement already satisfied: certifi>=2017.4.17 in c:\\users\\lyn\\appdata\\local\\packages\\pythonsoftwarefoundation.python.3.12_qbz5n2kfra8p0\\localcache\\local-packages\\python312\\site-packages (from requests) (2024.6.2)\n",
      "Requirement already satisfied: attrs>=19.2.0 in c:\\users\\lyn\\appdata\\local\\packages\\pythonsoftwarefoundation.python.3.12_qbz5n2kfra8p0\\localcache\\local-packages\\python312\\site-packages (from fiona>=1.8.21->geopandas) (23.2.0)\n",
      "Requirement already satisfied: click~=8.0 in c:\\users\\lyn\\appdata\\local\\packages\\pythonsoftwarefoundation.python.3.12_qbz5n2kfra8p0\\localcache\\local-packages\\python312\\site-packages (from fiona>=1.8.21->geopandas) (8.1.7)\n",
      "Requirement already satisfied: click-plugins>=1.0 in c:\\users\\lyn\\appdata\\local\\packages\\pythonsoftwarefoundation.python.3.12_qbz5n2kfra8p0\\localcache\\local-packages\\python312\\site-packages (from fiona>=1.8.21->geopandas) (1.1.1)\n",
      "Requirement already satisfied: cligj>=0.5 in c:\\users\\lyn\\appdata\\local\\packages\\pythonsoftwarefoundation.python.3.12_qbz5n2kfra8p0\\localcache\\local-packages\\python312\\site-packages (from fiona>=1.8.21->geopandas) (0.7.2)\n",
      "Requirement already satisfied: six in c:\\users\\lyn\\appdata\\local\\packages\\pythonsoftwarefoundation.python.3.12_qbz5n2kfra8p0\\localcache\\local-packages\\python312\\site-packages (from fiona>=1.8.21->geopandas) (1.16.0)\n",
      "Requirement already satisfied: python-dateutil>=2.8.2 in c:\\users\\lyn\\appdata\\local\\packages\\pythonsoftwarefoundation.python.3.12_qbz5n2kfra8p0\\localcache\\local-packages\\python312\\site-packages (from pandas>=1.4.0->geopandas) (2.9.0.post0)\n",
      "Requirement already satisfied: pytz>=2020.1 in c:\\users\\lyn\\appdata\\local\\packages\\pythonsoftwarefoundation.python.3.12_qbz5n2kfra8p0\\localcache\\local-packages\\python312\\site-packages (from pandas>=1.4.0->geopandas) (2024.1)\n",
      "Requirement already satisfied: tzdata>=2022.7 in c:\\users\\lyn\\appdata\\local\\packages\\pythonsoftwarefoundation.python.3.12_qbz5n2kfra8p0\\localcache\\local-packages\\python312\\site-packages (from pandas>=1.4.0->geopandas) (2024.1)\n",
      "Requirement already satisfied: colorama in c:\\users\\lyn\\appdata\\local\\packages\\pythonsoftwarefoundation.python.3.12_qbz5n2kfra8p0\\localcache\\local-packages\\python312\\site-packages (from click~=8.0->fiona>=1.8.21->geopandas) (0.4.6)\n",
      "Note: you may need to restart the kernel to use updated packages.\n"
     ]
    },
    {
     "name": "stderr",
     "output_type": "stream",
     "text": [
      "\n",
      "[notice] A new release of pip is available: 24.0 -> 24.1\n",
      "[notice] To update, run: C:\\Users\\Lyn\\AppData\\Local\\Microsoft\\WindowsApps\\PythonSoftwareFoundation.Python.3.12_qbz5n2kfra8p0\\python.exe -m pip install --upgrade pip\n"
     ]
    }
   ],
   "source": [
    "%pip install geopandas requests\n"
   ]
  },
  {
   "cell_type": "code",
   "execution_count": 2,
   "metadata": {},
   "outputs": [
    {
     "name": "stdout",
     "output_type": "stream",
     "text": [
      "                                            geometry feature_id  \\\n",
      "0  MULTIPOLYGON (((-78.62528 41.73424, -78.62492 ...    8973676   \n",
      "1  MULTIPOLYGON (((-78.63000 41.73752, -78.62997 ...    8973676   \n",
      "2  MULTIPOLYGON (((-74.61027 43.79164, -74.61019 ...   15469207   \n",
      "3  MULTIPOLYGON (((-74.62307 43.79365, -74.62310 ...   15469207   \n",
      "4  MULTIPOLYGON (((-74.66201 43.75491, -74.66222 ...   15469229   \n",
      "\n",
      "   streamflow_cfs           reference_time              update_time  oid  \n",
      "0            9.18  2024-06-26 18:00:00 UTC  2024-06-27 00:39:24 UTC    1  \n",
      "1            9.18  2024-06-26 18:00:00 UTC  2024-06-27 00:39:24 UTC    2  \n",
      "2           18.72  2024-06-26 18:00:00 UTC  2024-06-27 00:39:24 UTC    3  \n",
      "3           18.72  2024-06-26 18:00:00 UTC  2024-06-27 00:39:24 UTC    4  \n",
      "4          189.64  2024-06-26 18:00:00 UTC  2024-06-27 00:39:24 UTC    5  \n"
     ]
    }
   ],
   "source": [
    "import requests\n",
    "import geopandas as gpd\n",
    "\n",
    "# Construct the query URL\n",
    "# To change the query, you can go to https://maps.water.noaa.gov/server/rest/services/nwm\n",
    "# Then select the link you want, copy it here, and add /0/query to the end\n",
    "# e.g. https://link_to_service/0/query\n",
    "query_url = \"https://maps.water.noaa.gov/server/rest/services/nwm/mrf_gfs_5day_max_inundation_extent/MapServer/0/query\"\n",
    "params = {\n",
    "    'where': '1=1',\n",
    "    'outFields': '*',\n",
    "    'outSR': '4326',  # Specify output spatial reference if needed\n",
    "    'f': 'geojson',  # Request geojson output\n",
    "    'returnGeometry': 'true'\n",
    "}\n",
    "\n",
    "# Make the request\n",
    "response = requests.get(query_url, params=params)\n",
    "\n",
    "# Convert to GeoDataFrame\n",
    "predictions = gpd.GeoDataFrame.from_features(response.json(), crs=\"EPSG:4326\")\n",
    "\n",
    "print(predictions.head())\n"
   ]
  },
  {
   "cell_type": "code",
   "execution_count": 3,
   "metadata": {},
   "outputs": [
    {
     "name": "stderr",
     "output_type": "stream",
     "text": [
      "C:\\Users\\Lyn\\AppData\\Local\\Packages\\PythonSoftwareFoundation.Python.3.12_qbz5n2kfra8p0\\LocalCache\\local-packages\\Python312\\site-packages\\contextily\\tile.py:623: UserWarning: The inferred zoom level of 22 is not valid for the current tile provider (valid zooms: 0 - 20).\n",
      "  warnings.warn(msg)\n",
      "C:\\Users\\Lyn\\AppData\\Local\\Temp\\ipykernel_18328\\4089502556.py:20: UserWarning: set_ticklabels() should only be used with a fixed number of ticks, i.e. after set_ticks() or using a FixedLocator.\n",
      "  ax.set_xticklabels([round(val, 2) for val in ax.get_xticks()], rotation=45)\n",
      "C:\\Users\\Lyn\\AppData\\Local\\Temp\\ipykernel_18328\\4089502556.py:21: UserWarning: set_ticklabels() should only be used with a fixed number of ticks, i.e. after set_ticks() or using a FixedLocator.\n",
      "  ax.set_yticklabels([round(val, 2) for val in ax.get_yticks()])\n"
     ]
    },
    {
     "data": {
      "image/png": "[encoded data removed]",
      "text/plain": [
       "<Figure size 1000x600 with 1 Axes>"
      ]
     },
     "metadata": {},
     "output_type": "display_data"
    }
   ],
   "source": [
    "# Import necessary libraries\n",
    "import matplotlib.pyplot as plt\n",
    "import contextily as ctx\n",
    "\n",
    "# Create a subplot with specified figure size\n",
    "fig, ax = plt.subplots(figsize=(10, 6))\n",
    "\n",
    "# Plot the predictions GeoDataFrame on the created axes object\n",
    "# Ensure to specify the ax parameter to plot on the same axes\n",
    "predictions.plot(ax=ax, color='blue', edgecolor='black')\n",
    "\n",
    "# Add a basemap to the same axes object\n",
    "ctx.add_basemap(ax, source=ctx.providers.CartoDB.Positron)\n",
    "\n",
    "# Adjust x and y axis labels to longitude and latitude\n",
    "ax.set_xlabel('Longitude')\n",
    "ax.set_ylabel('Latitude')\n",
    "\n",
    "# Convert axis labels to degrees and set rotation for better readability\n",
    "ax.set_xticklabels([round(val, 2) for val in ax.get_xticks()], rotation=45)\n",
    "ax.set_yticklabels([round(val, 2) for val in ax.get_yticks()])\n",
    "\n",
    "# Set plot title and labels for axes\n",
    "plt.title('NOAA Water Maps - National 5 Day Max Inundation Extent')\n",
    "\n",
    "# Display the combined plot\n",
    "plt.show()"
   ]
  },
  {
   "cell_type": "code",
   "execution_count": 7,
   "metadata": {},
   "outputs": [
    {
     "name": "stdout",
     "output_type": "stream",
     "text": [
      "20240626_231254\n"
     ]
    }
   ],
   "source": [
    "from datetime import datetime\n",
    "# Format the current datetime as a string in the desired format (e.g., YYYYMMDD_HHMMSS)\n",
    "datetime = datetime.now().strftime(\"%Y%m%d_%H%M%S\")\n",
    "\n",
    "print(datetime)"
   ]
  },
  {
   "cell_type": "code",
   "execution_count": 8,
   "metadata": {},
   "outputs": [
    {
     "name": "stderr",
     "output_type": "stream",
     "text": [
      "C:\\Users\\Lyn\\AppData\\Local\\Temp\\ipykernel_18328\\669758952.py:3: UserWarning: Column names longer than 10 characters will be truncated when saved to ESRI Shapefile.\n",
      "  predictions.to_file(file_name)\n"
     ]
    }
   ],
   "source": [
    "# Export GeoDataFrame as a Shapefile\n",
    "file_name = f\"C:/Users/Lyn/Documents/Programming/Python_codes/Impact_Map_Forecasting/results_5day_forecast/5day_inundationextent_{datetime}.shp\"\n",
    "predictions.to_file(file_name)"
   ]
  },
  {
   "cell_type": "markdown",
   "metadata": {},
   "source": [
    "Turn the shapefile of the inundation forecast into a raster"
   ]
  },
  {
   "cell_type": "code",
   "execution_count": 11,
   "metadata": {},
   "outputs": [
    {
     "name": "stdout",
     "output_type": "stream",
     "text": [
      "Note: you may need to restart the kernel to use updated packages.Defaulting to user installation because normal site-packages is not writeable\n",
      "Collecting osgeo\n",
      "  Using cached osgeo-0.0.1.tar.gz (1.2 kB)\n",
      "  Installing build dependencies: started\n",
      "  Installing build dependencies: finished with status 'done'\n",
      "  Getting requirements to build wheel: started\n",
      "  Getting requirements to build wheel: finished with status 'done'\n",
      "  Preparing metadata (pyproject.toml): started\n",
      "  Preparing metadata (pyproject.toml): finished with status 'done'\n",
      "Building wheels for collected packages: osgeo\n",
      "  Building wheel for osgeo (pyproject.toml): started\n",
      "  Building wheel for osgeo (pyproject.toml): finished with status 'error'\n",
      "Failed to build osgeo\n",
      "\n"
     ]
    },
    {
     "name": "stderr",
     "output_type": "stream",
     "text": [
      "  error: subprocess-exited-with-error\n",
      "  \n",
      "  × Building wheel for osgeo (pyproject.toml) did not run successfully.\n",
      "  │ exit code: 1\n",
      "  ╰─> [49 lines of output]\n",
      "      running bdist_wheel\n",
      "      running build\n",
      "      installing to build\\bdist.win-amd64\\wheel\n",
      "      running install\n",
      "      Traceback (most recent call last):\n",
      "        File \"C:\\Program Files\\WindowsApps\\PythonSoftwareFoundation.Python.3.12_3.12.1264.0_x64__qbz5n2kfra8p0\\Lib\\site-packages\\pip\\_vendor\\pyproject_hooks\\_in_process\\_in_process.py\", line 353, in <module>\n",
      "          main()\n",
      "        File \"C:\\Program Files\\WindowsApps\\PythonSoftwareFoundation.Python.3.12_3.12.1264.0_x64__qbz5n2kfra8p0\\Lib\\site-packages\\pip\\_vendor\\pyproject_hooks\\_in_process\\_in_process.py\", line 335, in main\n",
      "          json_out['return_val'] = hook(**hook_input['kwargs'])\n",
      "                                   ^^^^^^^^^^^^^^^^^^^^^^^^^^^^\n",
      "        File \"C:\\Program Files\\WindowsApps\\PythonSoftwareFoundation.Python.3.12_3.12.1264.0_x64__qbz5n2kfra8p0\\Lib\\site-packages\\pip\\_vendor\\pyproject_hooks\\_in_process\\_in_process.py\", line 251, in build_wheel\n",
      "          return _build_backend().build_wheel(wheel_directory, config_settings,\n",
      "                 ^^^^^^^^^^^^^^^^^^^^^^^^^^^^^^^^^^^^^^^^^^^^^^^^^^^^^^^^^^^^^^\n",
      "        File \"C:\\Users\\Lyn\\AppData\\Local\\Temp\\pip-build-env-dz2zctul\\overlay\\Lib\\site-packages\\setuptools\\build_meta.py\", line 415, in build_wheel\n",
      "          return self._build_with_temp_dir(\n",
      "                 ^^^^^^^^^^^^^^^^^^^^^^^^^^\n",
      "        File \"C:\\Users\\Lyn\\AppData\\Local\\Temp\\pip-build-env-dz2zctul\\overlay\\Lib\\site-packages\\setuptools\\build_meta.py\", line 397, in _build_with_temp_dir\n",
      "          self.run_setup()\n",
      "        File \"C:\\Users\\Lyn\\AppData\\Local\\Temp\\pip-build-env-dz2zctul\\overlay\\Lib\\site-packages\\setuptools\\build_meta.py\", line 497, in run_setup\n",
      "          super().run_setup(setup_script=setup_script)\n",
      "        File \"C:\\Users\\Lyn\\AppData\\Local\\Temp\\pip-build-env-dz2zctul\\overlay\\Lib\\site-packages\\setuptools\\build_meta.py\", line 313, in run_setup\n",
      "          exec(code, locals())\n",
      "        File \"<string>\", line 32, in <module>\n",
      "        File \"C:\\Users\\Lyn\\AppData\\Local\\Temp\\pip-build-env-dz2zctul\\overlay\\Lib\\site-packages\\setuptools\\__init__.py\", line 103, in setup\n",
      "          return distutils.core.setup(**attrs)\n",
      "                 ^^^^^^^^^^^^^^^^^^^^^^^^^^^^^\n",
      "        File \"C:\\Users\\Lyn\\AppData\\Local\\Temp\\pip-build-env-dz2zctul\\overlay\\Lib\\site-packages\\setuptools\\_distutils\\core.py\", line 184, in setup\n",
      "          return run_commands(dist)\n",
      "                 ^^^^^^^^^^^^^^^^^^\n",
      "        File \"C:\\Users\\Lyn\\AppData\\Local\\Temp\\pip-build-env-dz2zctul\\overlay\\Lib\\site-packages\\setuptools\\_distutils\\core.py\", line 200, in run_commands\n",
      "          dist.run_commands()\n",
      "        File \"C:\\Users\\Lyn\\AppData\\Local\\Temp\\pip-build-env-dz2zctul\\overlay\\Lib\\site-packages\\setuptools\\_distutils\\dist.py\", line 969, in run_commands\n",
      "          self.run_command(cmd)\n",
      "        File \"C:\\Users\\Lyn\\AppData\\Local\\Temp\\pip-build-env-dz2zctul\\overlay\\Lib\\site-packages\\setuptools\\dist.py\", line 976, in run_command\n",
      "          super().run_command(command)\n",
      "        File \"C:\\Users\\Lyn\\AppData\\Local\\Temp\\pip-build-env-dz2zctul\\overlay\\Lib\\site-packages\\setuptools\\_distutils\\dist.py\", line 988, in run_command\n",
      "          cmd_obj.run()\n",
      "        File \"C:\\Users\\Lyn\\AppData\\Local\\Temp\\pip-build-env-dz2zctul\\overlay\\Lib\\site-packages\\setuptools\\command\\bdist_wheel.py\", line 408, in run\n",
      "          self.run_command(\"install\")\n",
      "        File \"C:\\Users\\Lyn\\AppData\\Local\\Temp\\pip-build-env-dz2zctul\\overlay\\Lib\\site-packages\\setuptools\\_distutils\\cmd.py\", line 316, in run_command\n",
      "          self.distribution.run_command(command)\n",
      "        File \"C:\\Users\\Lyn\\AppData\\Local\\Temp\\pip-build-env-dz2zctul\\overlay\\Lib\\site-packages\\setuptools\\dist.py\", line 976, in run_command\n",
      "          super().run_command(command)\n",
      "        File \"C:\\Users\\Lyn\\AppData\\Local\\Temp\\pip-build-env-dz2zctul\\overlay\\Lib\\site-packages\\setuptools\\_distutils\\dist.py\", line 988, in run_command\n",
      "          cmd_obj.run()\n",
      "        File \"<string>\", line 27, in run\n",
      "      Exception: In order to be able to run `from osgeo import gdal`,\n",
      "      You were probably trying to install `gdal` by running `pip install osgeo`.\n",
      "      Instead, you should either `pip install gdal` or replace `osgeo` with `gdal` in your requirements.\n",
      "      [end of output]\n",
      "  \n",
      "  note: This error originates from a subprocess, and is likely not a problem with pip.\n",
      "  ERROR: Failed building wheel for osgeo\n",
      "ERROR: Could not build wheels for osgeo, which is required to install pyproject.toml-based projects\n",
      "\n",
      "[notice] A new release of pip is available: 24.0 -> 24.1\n",
      "[notice] To update, run: C:\\Users\\Lyn\\AppData\\Local\\Microsoft\\WindowsApps\\PythonSoftwareFoundation.Python.3.12_qbz5n2kfra8p0\\python.exe -m pip install --upgrade pip\n"
     ]
    }
   ],
   "source": [
    "%pip install osgeo"
   ]
  },
  {
   "cell_type": "code",
   "execution_count": 1,
   "metadata": {},
   "outputs": [
    {
     "ename": "ModuleNotFoundError",
     "evalue": "No module named 'osgeo'",
     "output_type": "error",
     "traceback": [
      "\u001b[1;31m---------------------------------------------------------------------------\u001b[0m",
      "\u001b[1;31mModuleNotFoundError\u001b[0m                       Traceback (most recent call last)",
      "Cell \u001b[1;32mIn[1], line 3\u001b[0m\n\u001b[0;32m      1\u001b[0m \u001b[38;5;28;01mimport\u001b[39;00m \u001b[38;5;21;01mos\u001b[39;00m\n\u001b[0;32m      2\u001b[0m \u001b[38;5;28;01mimport\u001b[39;00m \u001b[38;5;21;01mgeopandas\u001b[39;00m \u001b[38;5;28;01mas\u001b[39;00m \u001b[38;5;21;01mgpd\u001b[39;00m\n\u001b[1;32m----> 3\u001b[0m \u001b[38;5;28;01mfrom\u001b[39;00m \u001b[38;5;21;01mosgeo\u001b[39;00m \u001b[38;5;28;01mimport\u001b[39;00m gdal, ogr, osr\n\u001b[0;32m      5\u001b[0m \u001b[38;5;66;03m# Set the working directory\u001b[39;00m\n\u001b[0;32m      6\u001b[0m os\u001b[38;5;241m.\u001b[39mchdir(\u001b[38;5;124mr\u001b[39m\u001b[38;5;124m'\u001b[39m\u001b[38;5;124mC:/Users/Lyn/Documents/Programming/Python_codes/Impact_Map_Forecasting/ results_5day_forecast\u001b[39m\u001b[38;5;124m'\u001b[39m)\n",
      "\u001b[1;31mModuleNotFoundError\u001b[0m: No module named 'osgeo'"
     ]
    }
   ],
   "source": [
    "import os\n",
    "import geopandas as gpd\n",
    "from osgeo import gdal, ogr, osr\n",
    "\n",
    "# Set the working directory\n",
    "os.chdir(r'C:/Users/Lyn/Documents/Programming/Python_codes/Impact_Map_Forecasting/ results_5day_forecast')\n",
    "\n",
    "# Read the shapefile using GeoPandas\n",
    "#shapefile = gpd.read_file(r'D:/Hesham/CUAHSI/Geospatial/Jupyter N2/svi_data.shp')\n",
    "\n",
    "# Open the shapefile using OGR\n",
    "#input_shp = ogr.Open(r'D:/Hesham/CUAHSI/Geospatial/Jupyter N2/svi_data.shp')\n",
    "#source_layer = input_shp.GetLayer()\n",
    "#defn = source_layer.GetLayerDefn()\n",
    "\n",
    "# Extract column names\n",
    "column_names = []\n",
    "for n in range(predictions.GetFieldCount()):\n",
    "    fdefn = predictions.GetFieldDefn(n)\n",
    "    column_names.append(fdefn.GetName())\n",
    "\n",
    "# Define output raster location and pixel size\n",
    "output_raster_location = r'D:/Hesham/CUAHSI/Geospatial/Jupyter N3/svi_raster.tif'\n",
    "pixel_size = 0.0001\n",
    "\n",
    "# Get extent of the source layer\n",
    "xmin, xmax, ymin, ymax = predictions.GetExtent()\n",
    "\n",
    "# Calculate resolution\n",
    "x_res = int(round((xmax - xmin) / pixel_size))\n",
    "y_res = int(round((ymax - ymin) / pixel_size))\n",
    "\n",
    "# Create the target raster file\n",
    "target_ds = gdal.GetDriverByName('GTiff').Create(output_raster_location, x_res, y_res, 1, gdal.GDT_Float32, ['COMPRESS=LZW'])\n",
    "target_ds.SetGeoTransform((xmin, pixel_size, 0, ymax, 0, -pixel_size))\n",
    "\n",
    "# Set projection\n",
    "srs = osr.SpatialReference()\n",
    "srs.ImportFromEPSG(4269)  # EPSG:4269 is NAD83\n",
    "target_ds.SetProjection(srs.ExportToWkt())\n",
    "\n",
    "# Get the raster band and set NoData value\n",
    "band = target_ds.GetRasterBand(1)\n",
    "band.SetNoDataValue(-9999)\n",
    "band.Fill(-9999)\n",
    "\n",
    "# Rasterize the shapefile layer to the raster\n",
    "gdal.RasterizeLayer(target_ds, [1], source_layer, options=['ALL_TOUCHED=TRUE', 'ATTRIBUTE=SVI'])\n",
    "\n",
    "# Close the raster dataset\n",
    "target_ds = None\n",
    "\n",
    "print(\"Rasterization complete!\")\n"
   ]
  }
 ],
 "metadata": {
  "kernelspec": {
   "display_name": "Python 3",
   "language": "python",
   "name": "python3"
  },
  "language_info": {
   "codemirror_mode": {
    "name": "ipython",
    "version": 3
   },
   "file_extension": ".py",
   "mimetype": "text/x-python",
   "name": "python",
   "nbconvert_exporter": "python",
   "pygments_lexer": "ipython3",
   "version": "3.12.4"
  }
 },
 "nbformat": 4,
 "nbformat_minor": 2
}
