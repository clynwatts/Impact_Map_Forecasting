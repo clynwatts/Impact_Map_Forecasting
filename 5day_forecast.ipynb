{
 "cells": [
  {
   "cell_type": "markdown",
   "metadata": {},
   "source": [
    "This code (will be) set up to generate a forecasted impact map of a specified area.\n",
    "The area in the example case is Houston, TX\n",
    "The inundation extent is sourced from the National Water Model forecast. \n",
    "Depth model is calculated from the inundation extent and the national 3m DEM\n",
    "The impact map is calculated from the depth and the CDC SVI scores at the census tract scale. "
   ]
  },
  {
   "cell_type": "code",
   "execution_count": null,
   "metadata": {},
   "outputs": [],
   "source": [
    "# edit code so that it runs automatically every hour\n",
    "# use python.12.4 kernel\n",
    "# THIS IS A WORK IN PROGRESS"
   ]
  },
  {
   "cell_type": "markdown",
   "metadata": {},
   "source": [
    "Currently, the dependencies require numpy <2, so make sure your numpy package matches that requirement. If it does, skip the next two steps"
   ]
  },
  {
   "cell_type": "code",
   "execution_count": 1,
   "metadata": {},
   "outputs": [],
   "source": [
    "import os\n",
    "import numpy as np\n",
    "import arcpy\n",
    "from datetime import datetime"
   ]
  },
  {
   "cell_type": "markdown",
   "metadata": {},
   "source": [
    "## Import packages and set the paths to the working directory and input files\n",
    "TO DO: \n",
    "1. Replace the directory path with the path to the folder you want to work in\n",
    "2. Replace dem_name with path to the dem you want to use (as a tif) \n",
    "3. Replace the inund_polygon with path to the area extent you want to map (as a .shp)"
   ]
  },
  {
   "cell_type": "code",
   "execution_count": 2,
   "metadata": {},
   "outputs": [
    {
     "name": "stdout",
     "output_type": "stream",
     "text": [
      "New folder created at: F:/SI_2024/Forecast_test_5day/5dayforecast20240708_222641\n",
      "Current Working Directory:  F:\\SI_2024\\Forecast_test_5day\\5dayforecast20240708_222641\n"
     ]
    }
   ],
   "source": [
    "# Import packages\n",
    "import os\n",
    "import arcpy\n",
    "from datetime import datetime\n",
    "\n",
    "# Format the current datetime as a string in the desired format (e.g., YYYYMMDD_HHMMSS)\n",
    "datetime = datetime.now().strftime(\"%Y%m%d_%H%M%S\")\n",
    "\n",
    "\n",
    "# Replace 'path/to/your/directory' with the path to your desired working directory\n",
    "directory = 'F:/SI_2024/Forecast_test_5day/'\n",
    "\n",
    "\n",
    "# Create a new folder within the current working directory\n",
    "resultfolder = \"5dayforecast\"+datetime\n",
    "os.makedirs(os.path.join(directory, resultfolder), exist_ok=True)\n",
    "print(f\"New folder created at: {os.path.join(directory, resultfolder)}\")\n",
    "infolder = directory+resultfolder+'/'\n",
    "\n",
    "\n",
    "# set up input variables\n",
    "dem_name = 'C:/Users/Lyn/Documents/Programming/Python_codes/fwdet/Forecast_test_5day/Houston_DEM.tif'\n",
    "extent = 'C:/Users/Lyn/Documents/ArcGIS/CUAHSI_SI_2024/Houston_huc.shp'\n",
    "svi = 'C:/Users/Lyn/Documents/Programming/Python_codes/Impact_Map_Forecasting/Texas_example/aligned_svi_raster.tif'\n",
    "\n",
    "# Set the working directory\n",
    "os.chdir(infolder)\n",
    "# Verify the current working directory\n",
    "print(\"Current Working Directory: \", os.getcwd())\n",
    "\n",
    "# set up input and output variables\n",
    "arcpy.env.overwriteOutput = True\n",
    "\n",
    "# make a geodatabase within the infolder   \n",
    "gdb_path = infolder \n",
    "# Create the geodatabase\n",
    "arcpy.CreateFileGDB_management(out_folder_path = infolder, out_name='geodatabase.gdb')\n",
    "#workspace\n",
    "ws = arcpy.env.workspace = infolder"
   ]
  },
  {
   "cell_type": "code",
   "execution_count": 3,
   "metadata": {},
   "outputs": [
    {
     "name": "stdout",
     "output_type": "stream",
     "text": [
      "Requirement already satisfied: geopandas in c:\\users\\lyn\\appdata\\roaming\\python\\python311\\site-packages (1.0.1)Note: you may need to restart the kernel to use updated packages.\n",
      "\n",
      "Requirement already satisfied: rasterio in c:\\users\\lyn\\appdata\\roaming\\python\\python311\\site-packages (1.3.10)\n",
      "Requirement already satisfied: shapely in c:\\users\\lyn\\appdata\\roaming\\python\\python311\\site-packages (2.0.4)\n",
      "Requirement already satisfied: numpy>=1.22 in c:\\users\\lyn\\appdata\\local\\esri\\conda\\envs\\arcgispro-py3-clone\\lib\\site-packages (from geopandas) (1.24.3)\n",
      "Requirement already satisfied: pyogrio>=0.7.2 in c:\\users\\lyn\\appdata\\roaming\\python\\python311\\site-packages (from geopandas) (0.9.0)\n",
      "Requirement already satisfied: packaging in c:\\users\\lyn\\appdata\\local\\esri\\conda\\envs\\arcgispro-py3-clone\\lib\\site-packages (from geopandas) (23.2)\n",
      "Requirement already satisfied: pandas>=1.4.0 in c:\\users\\lyn\\appdata\\local\\esri\\conda\\envs\\arcgispro-py3-clone\\lib\\site-packages (from geopandas) (2.0.2)\n",
      "Requirement already satisfied: pyproj>=3.3.0 in c:\\users\\lyn\\appdata\\roaming\\python\\python311\\site-packages (from geopandas) (3.6.1)\n",
      "Requirement already satisfied: affine in c:\\users\\lyn\\appdata\\roaming\\python\\python311\\site-packages (from rasterio) (2.4.0)\n",
      "Requirement already satisfied: attrs in c:\\users\\lyn\\appdata\\local\\esri\\conda\\envs\\arcgispro-py3-clone\\lib\\site-packages (from rasterio) (23.1.0)\n",
      "Requirement already satisfied: certifi in c:\\users\\lyn\\appdata\\local\\esri\\conda\\envs\\arcgispro-py3-clone\\lib\\site-packages (from rasterio) (2024.2.2)\n",
      "Requirement already satisfied: click>=4.0 in c:\\users\\lyn\\appdata\\local\\esri\\conda\\envs\\arcgispro-py3-clone\\lib\\site-packages (from rasterio) (8.1.7)\n",
      "Requirement already satisfied: cligj>=0.5 in c:\\users\\lyn\\appdata\\roaming\\python\\python311\\site-packages (from rasterio) (0.7.2)\n",
      "Requirement already satisfied: snuggs>=1.4.1 in c:\\users\\lyn\\appdata\\roaming\\python\\python311\\site-packages (from rasterio) (1.4.7)\n",
      "Requirement already satisfied: click-plugins in c:\\users\\lyn\\appdata\\roaming\\python\\python311\\site-packages (from rasterio) (1.1.1)\n",
      "Requirement already satisfied: setuptools in c:\\users\\lyn\\appdata\\local\\esri\\conda\\envs\\arcgispro-py3-clone\\lib\\site-packages (from rasterio) (68.2.2)\n",
      "Requirement already satisfied: colorama in c:\\users\\lyn\\appdata\\local\\esri\\conda\\envs\\arcgispro-py3-clone\\lib\\site-packages (from click>=4.0->rasterio) (0.4.6)\n",
      "Requirement already satisfied: python-dateutil>=2.8.2 in c:\\users\\lyn\\appdata\\local\\esri\\conda\\envs\\arcgispro-py3-clone\\lib\\site-packages (from pandas>=1.4.0->geopandas) (2.8.2)\n",
      "Requirement already satisfied: pytz>=2020.1 in c:\\users\\lyn\\appdata\\local\\esri\\conda\\envs\\arcgispro-py3-clone\\lib\\site-packages\\pytz-2022.6-py3.11.egg (from pandas>=1.4.0->geopandas) (2022.6)\n",
      "Requirement already satisfied: tzdata>=2022.1 in c:\\users\\lyn\\appdata\\roaming\\python\\python311\\site-packages (from pandas>=1.4.0->geopandas) (2024.1)\n",
      "Requirement already satisfied: pyparsing>=2.1.6 in c:\\users\\lyn\\appdata\\local\\esri\\conda\\envs\\arcgispro-py3-clone\\lib\\site-packages (from snuggs>=1.4.1->rasterio) (3.0.9)\n",
      "Requirement already satisfied: six>=1.5 in c:\\users\\lyn\\appdata\\local\\esri\\conda\\envs\\arcgispro-py3-clone\\lib\\site-packages (from python-dateutil>=2.8.2->pandas>=1.4.0->geopandas) (1.16.0)\n"
     ]
    }
   ],
   "source": [
    "%pip install geopandas rasterio shapely"
   ]
  },
  {
   "cell_type": "markdown",
   "metadata": {},
   "source": [
    "## Query the NWM 5 day inundation exent. This section will download it as a shapefile, merge polygons, and prepare for depth calculaiton"
   ]
  },
  {
   "cell_type": "code",
   "execution_count": 4,
   "metadata": {},
   "outputs": [
    {
     "name": "stdout",
     "output_type": "stream",
     "text": [
      "Request failed with status 500: <html lang=\"en\">\n",
      "<head>\n",
      "<title>\n",
      "Error: Error performing query operation</title>\n",
      "<link href=\"/server/rest/static/main.css\" rel=\"stylesheet\" type=\"text/css\"/>\n",
      "</head>\n",
      "<body>\n",
      "<table width=\"100%\" class=\"userTable\">\n",
      "<tr>\n",
      "<td class=\"titlecell\">ArcGIS REST Framework</td>\n",
      "</tr>\n",
      "</table>\n",
      "<table width=\"100%\" class=\"navTable\">\n",
      "<tr valign=\"top\">\n",
      "<td class=\"breadcrumbs\">\n",
      "<a href=\"/server/rest/services\">Home</a>\n",
      "</td>\n",
      "</tr>\n",
      "</table>\n",
      "<div class=\"cbody\">\n",
      "<br/>\n",
      "<br/>\n",
      "<b>Error: </b>Error performing query operation<br/>\n",
      "<b>Code: </b>500<br/><br/>\n",
      "<div style=\"color:#ff6666\"> </div></div>\n",
      "</body>\n",
      "</html>\n",
      "\n"
     ]
    },
    {
     "ename": "JSONDecodeError",
     "evalue": "Expecting value: line 1 column 1 (char 0)",
     "output_type": "error",
     "traceback": [
      "\u001b[1;31m---------------------------------------------------------------------------\u001b[0m",
      "\u001b[1;31mJSONDecodeError\u001b[0m                           Traceback (most recent call last)",
      "\u001b[1;32mc:\\Users\\Lyn\\AppData\\Local\\ESRI\\conda\\envs\\arcgispro-py3-clone\\Lib\\site-packages\\requests\\models.py\u001b[0m in \u001b[0;36mjson\u001b[1;34m(self, **kwargs)\u001b[0m\n\u001b[0;32m    970\u001b[0m         \u001b[1;32mtry\u001b[0m\u001b[1;33m:\u001b[0m\u001b[1;33m\u001b[0m\u001b[1;33m\u001b[0m\u001b[0m\n\u001b[1;32m--> 971\u001b[1;33m             \u001b[1;32mreturn\u001b[0m \u001b[0mcomplexjson\u001b[0m\u001b[1;33m.\u001b[0m\u001b[0mloads\u001b[0m\u001b[1;33m(\u001b[0m\u001b[0mself\u001b[0m\u001b[1;33m.\u001b[0m\u001b[0mtext\u001b[0m\u001b[1;33m,\u001b[0m \u001b[1;33m**\u001b[0m\u001b[0mkwargs\u001b[0m\u001b[1;33m)\u001b[0m\u001b[1;33m\u001b[0m\u001b[1;33m\u001b[0m\u001b[0m\n\u001b[0m\u001b[0;32m    972\u001b[0m         \u001b[1;32mexcept\u001b[0m \u001b[0mJSONDecodeError\u001b[0m \u001b[1;32mas\u001b[0m \u001b[0me\u001b[0m\u001b[1;33m:\u001b[0m\u001b[1;33m\u001b[0m\u001b[1;33m\u001b[0m\u001b[0m\n",
      "\u001b[1;32mc:\\Users\\Lyn\\AppData\\Local\\ESRI\\conda\\envs\\arcgispro-py3-clone\\Lib\\json\\__init__.py\u001b[0m in \u001b[0;36mloads\u001b[1;34m(s, cls, object_hook, parse_float, parse_int, parse_constant, object_pairs_hook, **kw)\u001b[0m\n\u001b[0;32m    345\u001b[0m             parse_constant is None and object_pairs_hook is None and not kw):\n\u001b[1;32m--> 346\u001b[1;33m         \u001b[1;32mreturn\u001b[0m \u001b[0m_default_decoder\u001b[0m\u001b[1;33m.\u001b[0m\u001b[0mdecode\u001b[0m\u001b[1;33m(\u001b[0m\u001b[0ms\u001b[0m\u001b[1;33m)\u001b[0m\u001b[1;33m\u001b[0m\u001b[1;33m\u001b[0m\u001b[0m\n\u001b[0m\u001b[0;32m    347\u001b[0m     \u001b[1;32mif\u001b[0m \u001b[0mcls\u001b[0m \u001b[1;32mis\u001b[0m \u001b[1;32mNone\u001b[0m\u001b[1;33m:\u001b[0m\u001b[1;33m\u001b[0m\u001b[1;33m\u001b[0m\u001b[0m\n",
      "\u001b[1;32mc:\\Users\\Lyn\\AppData\\Local\\ESRI\\conda\\envs\\arcgispro-py3-clone\\Lib\\json\\decoder.py\u001b[0m in \u001b[0;36mdecode\u001b[1;34m(self, s, _w)\u001b[0m\n\u001b[0;32m    336\u001b[0m         \"\"\"\n\u001b[1;32m--> 337\u001b[1;33m         \u001b[0mobj\u001b[0m\u001b[1;33m,\u001b[0m \u001b[0mend\u001b[0m \u001b[1;33m=\u001b[0m \u001b[0mself\u001b[0m\u001b[1;33m.\u001b[0m\u001b[0mraw_decode\u001b[0m\u001b[1;33m(\u001b[0m\u001b[0ms\u001b[0m\u001b[1;33m,\u001b[0m \u001b[0midx\u001b[0m\u001b[1;33m=\u001b[0m\u001b[0m_w\u001b[0m\u001b[1;33m(\u001b[0m\u001b[0ms\u001b[0m\u001b[1;33m,\u001b[0m \u001b[1;36m0\u001b[0m\u001b[1;33m)\u001b[0m\u001b[1;33m.\u001b[0m\u001b[0mend\u001b[0m\u001b[1;33m(\u001b[0m\u001b[1;33m)\u001b[0m\u001b[1;33m)\u001b[0m\u001b[1;33m\u001b[0m\u001b[1;33m\u001b[0m\u001b[0m\n\u001b[0m\u001b[0;32m    338\u001b[0m         \u001b[0mend\u001b[0m \u001b[1;33m=\u001b[0m \u001b[0m_w\u001b[0m\u001b[1;33m(\u001b[0m\u001b[0ms\u001b[0m\u001b[1;33m,\u001b[0m \u001b[0mend\u001b[0m\u001b[1;33m)\u001b[0m\u001b[1;33m.\u001b[0m\u001b[0mend\u001b[0m\u001b[1;33m(\u001b[0m\u001b[1;33m)\u001b[0m\u001b[1;33m\u001b[0m\u001b[1;33m\u001b[0m\u001b[0m\n",
      "\u001b[1;32mc:\\Users\\Lyn\\AppData\\Local\\ESRI\\conda\\envs\\arcgispro-py3-clone\\Lib\\json\\decoder.py\u001b[0m in \u001b[0;36mraw_decode\u001b[1;34m(self, s, idx)\u001b[0m\n\u001b[0;32m    354\u001b[0m         \u001b[1;32mexcept\u001b[0m \u001b[0mStopIteration\u001b[0m \u001b[1;32mas\u001b[0m \u001b[0merr\u001b[0m\u001b[1;33m:\u001b[0m\u001b[1;33m\u001b[0m\u001b[1;33m\u001b[0m\u001b[0m\n\u001b[1;32m--> 355\u001b[1;33m             \u001b[1;32mraise\u001b[0m \u001b[0mJSONDecodeError\u001b[0m\u001b[1;33m(\u001b[0m\u001b[1;34m\"Expecting value\"\u001b[0m\u001b[1;33m,\u001b[0m \u001b[0ms\u001b[0m\u001b[1;33m,\u001b[0m \u001b[0merr\u001b[0m\u001b[1;33m.\u001b[0m\u001b[0mvalue\u001b[0m\u001b[1;33m)\u001b[0m \u001b[1;32mfrom\u001b[0m \u001b[1;32mNone\u001b[0m\u001b[1;33m\u001b[0m\u001b[1;33m\u001b[0m\u001b[0m\n\u001b[0m\u001b[0;32m    356\u001b[0m         \u001b[1;32mreturn\u001b[0m \u001b[0mobj\u001b[0m\u001b[1;33m,\u001b[0m \u001b[0mend\u001b[0m\u001b[1;33m\u001b[0m\u001b[1;33m\u001b[0m\u001b[0m\n",
      "\u001b[1;31mJSONDecodeError\u001b[0m: Expecting value: line 1 column 1 (char 0)",
      "\nDuring handling of the above exception, another exception occurred:\n",
      "\u001b[1;31mJSONDecodeError\u001b[0m                           Traceback (most recent call last)",
      "\u001b[1;32m~\\AppData\\Local\\Temp\\ipykernel_23816\\1076500937.py\u001b[0m in \u001b[0;36m<cell line: 0>\u001b[1;34m()\u001b[0m\n\u001b[0;32m     35\u001b[0m \u001b[1;33m\u001b[0m\u001b[0m\n\u001b[0;32m     36\u001b[0m \u001b[1;31m# Convert to GeoDataFrame\u001b[0m\u001b[1;33m\u001b[0m\u001b[1;33m\u001b[0m\u001b[0m\n\u001b[1;32m---> 37\u001b[1;33m \u001b[0mpredictions\u001b[0m \u001b[1;33m=\u001b[0m \u001b[0mgpd\u001b[0m\u001b[1;33m.\u001b[0m\u001b[0mGeoDataFrame\u001b[0m\u001b[1;33m.\u001b[0m\u001b[0mfrom_features\u001b[0m\u001b[1;33m(\u001b[0m\u001b[0mresponse\u001b[0m\u001b[1;33m.\u001b[0m\u001b[0mjson\u001b[0m\u001b[1;33m(\u001b[0m\u001b[1;33m)\u001b[0m\u001b[1;33m,\u001b[0m \u001b[0mcrs\u001b[0m\u001b[1;33m=\u001b[0m\u001b[1;34m\"EPSG:4326\"\u001b[0m\u001b[1;33m)\u001b[0m\u001b[1;33m\u001b[0m\u001b[1;33m\u001b[0m\u001b[0m\n\u001b[0m\u001b[0;32m     38\u001b[0m \u001b[0mprint\u001b[0m\u001b[1;33m(\u001b[0m\u001b[0mpredictions\u001b[0m\u001b[1;33m.\u001b[0m\u001b[0mhead\u001b[0m\u001b[1;33m(\u001b[0m\u001b[1;33m)\u001b[0m\u001b[1;33m)\u001b[0m\u001b[1;33m\u001b[0m\u001b[1;33m\u001b[0m\u001b[0m\n",
      "\u001b[1;32mc:\\Users\\Lyn\\AppData\\Local\\ESRI\\conda\\envs\\arcgispro-py3-clone\\Lib\\site-packages\\requests\\models.py\u001b[0m in \u001b[0;36mjson\u001b[1;34m(self, **kwargs)\u001b[0m\n\u001b[0;32m    973\u001b[0m             \u001b[1;31m# Catch JSON-related errors and raise as requests.JSONDecodeError\u001b[0m\u001b[1;33m\u001b[0m\u001b[1;33m\u001b[0m\u001b[0m\n\u001b[0;32m    974\u001b[0m             \u001b[1;31m# This aliases json.JSONDecodeError and simplejson.JSONDecodeError\u001b[0m\u001b[1;33m\u001b[0m\u001b[1;33m\u001b[0m\u001b[0m\n\u001b[1;32m--> 975\u001b[1;33m             \u001b[1;32mraise\u001b[0m \u001b[0mRequestsJSONDecodeError\u001b[0m\u001b[1;33m(\u001b[0m\u001b[0me\u001b[0m\u001b[1;33m.\u001b[0m\u001b[0mmsg\u001b[0m\u001b[1;33m,\u001b[0m \u001b[0me\u001b[0m\u001b[1;33m.\u001b[0m\u001b[0mdoc\u001b[0m\u001b[1;33m,\u001b[0m \u001b[0me\u001b[0m\u001b[1;33m.\u001b[0m\u001b[0mpos\u001b[0m\u001b[1;33m)\u001b[0m\u001b[1;33m\u001b[0m\u001b[1;33m\u001b[0m\u001b[0m\n\u001b[0m\u001b[0;32m    976\u001b[0m \u001b[1;33m\u001b[0m\u001b[0m\n\u001b[0;32m    977\u001b[0m     \u001b[1;33m@\u001b[0m\u001b[0mproperty\u001b[0m\u001b[1;33m\u001b[0m\u001b[1;33m\u001b[0m\u001b[0m\n",
      "\u001b[1;31mJSONDecodeError\u001b[0m: Expecting value: line 1 column 1 (char 0)"
     ]
    }
   ],
   "source": [
    "# query the NOAA API for the most recent flood predictions\n",
    "import requests\n",
    "import geopandas as gpd\n",
    "\n",
    "# Construct the query URL\n",
    "# To change the query, you can go to https://maps.water.noaa.gov/server/rest/services/nwm\n",
    "# Then select the link you want, copy it here, and add /0/query to the end\n",
    "# e.g. https://link_to_service/0/query\n",
    "query_url = \"https://maps.water.noaa.gov/server/rest/services/nwm/mrf_gfs_5day_max_inundation_extent/MapServer/0/query\"\n",
    "params = {\n",
    "    'where': '1=1',\n",
    "    'outFields': '*',\n",
    "    'outSR': '4326',  # Specify output spatial reference if needed\n",
    "    'f': 'geojson',  # Request geojson output\n",
    "    'returnGeometry': 'true'\n",
    "}\n",
    "# Make the request\n",
    "response = requests.get(query_url, params=params)\n",
    "\n",
    "\n",
    "# Check if the server is running correctly. A response of 500 means there is a server error. \n",
    "if response.status_code == 200:\n",
    "    try:\n",
    "        # Attempt to convert the response to a GeoDataFrame\n",
    "        predictions = gpd.GeoDataFrame.from_features(response.json(), crs=\"EPSG:4326\")\n",
    "        print(predictions.head())\n",
    "    except ValueError as e:\n",
    "        # Handle JSON decoding errors\n",
    "        print(f\"Error decoding JSON: {e}\")\n",
    "else:\n",
    "    # The request failed; print the status code and response text\n",
    "    print(f\"Request failed with status {response.status_code}: {response.text}\")\n",
    "\n",
    "\n",
    "\n",
    "# Convert to GeoDataFrame\n",
    "predictions = gpd.GeoDataFrame.from_features(response.json(), crs=\"EPSG:4326\")\n",
    "print(predictions.head())\n"
   ]
  },
  {
   "cell_type": "markdown",
   "metadata": {},
   "source": [
    "clip the predictions to the dem extent"
   ]
  },
  {
   "cell_type": "code",
   "execution_count": 8,
   "metadata": {},
   "outputs": [
    {
     "name": "stdout",
     "output_type": "stream",
     "text": [
      "   COUNT    SHAPE_Leng    SHAPE_Area  \\\n",
      "0  924.0  8.358015e+06  3.540893e+08   \n",
      "\n",
      "                                            geometry  \n",
      "0  MULTIPOLYGON (((-10666025.504 3471520.993, -10...  \n"
     ]
    }
   ],
   "source": [
    "import geopandas as gpd\n",
    "\n",
    "# Specify the path to the shapefile\n",
    "shapefile_path = \"F:/SI_2024/5day_07182024_smooth.shp\"\n",
    "\n",
    "# Read the shapefile into a GeoDataFrame\n",
    "predictions = gpd.read_file(shapefile_path)\n",
    "\n",
    "# Print the GeoDataFrame\n",
    "print(predictions.head())"
   ]
  },
  {
   "cell_type": "code",
   "execution_count": 6,
   "metadata": {},
   "outputs": [],
   "source": [
    "# clip the predictions to the extent of interest - defined by the dem_name above\n",
    "\n",
    "import geopandas as gpd\n",
    "import rasterio\n",
    "from shapely.geometry import box\n",
    "\n",
    "\n",
    "# Open the DEM file with rasterio\n",
    "with rasterio.open(dem_name) as dem:\n",
    "    # Read the entire file into a numpy array\n",
    "    bounds = dem.bounds\n",
    "\n",
    "\n",
    "# Create a bounding box polygon from the DEM bounds\n",
    "bounding_box_polygon = box(*bounds)\n",
    "\n",
    "# Clip the predictions GeoDataFrame to the bounding box\n",
    "clipped_predictions = gpd.clip(predictions, bounding_box_polygon)\n",
    "predictions = clipped_predictions\n",
    "\n"
   ]
  },
  {
   "cell_type": "code",
   "execution_count": 9,
   "metadata": {},
   "outputs": [],
   "source": [
    "# If predictions is empty, print a message and exit the script\n",
    "import sys\n",
    "if predictions.empty:\n",
    "    print(\"No flood predictions in this area found.\")\n",
    "    sys.exit(0)"
   ]
  },
  {
   "cell_type": "markdown",
   "metadata": {},
   "source": [
    "## FWDET2.1 calculates depth map from inundation extent\n",
    "### Written by Dr.Sagy Cohen"
   ]
  },
  {
   "cell_type": "code",
   "execution_count": 10,
   "metadata": {},
   "outputs": [],
   "source": [
    "# use kernel arcgispro-py3 (python 3.9.16)\n",
    "import arcpy"
   ]
  },
  {
   "cell_type": "code",
   "execution_count": 11,
   "metadata": {},
   "outputs": [],
   "source": [
    "\n",
    "#clip_dem = '' #[Optional] - If empty, the clip_dem will be calculated with the Clip_management function\n",
    "#cost_raster ='' #[Optional] - If empty, the CostRaster will be calculated below\n",
    "WaterDepthOutput = 'WaterDepth_i10_s0p5'\n",
    "iterations = 10\n",
    "SlopeFiltering = True\n",
    "SlopeThreshold = 0.5\n",
    "inund_polygon = predictions # This is a new addition!! is it correct??? is inund_polgon supposed to be the predictions?"
   ]
  },
  {
   "cell_type": "code",
   "execution_count": 12,
   "metadata": {},
   "outputs": [
    {
     "ename": "RuntimeError",
     "evalue": "Object: Error in executing tool",
     "output_type": "error",
     "traceback": [
      "\u001b[1;31m---------------------------------------------------------------------------\u001b[0m",
      "\u001b[1;31mRuntimeError\u001b[0m                              Traceback (most recent call last)",
      "\u001b[1;32m~\\AppData\\Local\\Temp\\ipykernel_23816\\4090663469.py\u001b[0m in \u001b[0;36m<cell line: 0>\u001b[1;34m()\u001b[0m\n\u001b[0;32m     11\u001b[0m \u001b[0mclip_dem\u001b[0m \u001b[1;33m=\u001b[0m \u001b[1;34m'ClipDEM'\u001b[0m\u001b[1;33m\u001b[0m\u001b[1;33m\u001b[0m\u001b[0m\n\u001b[0;32m     12\u001b[0m \u001b[1;33m\u001b[0m\u001b[0m\n\u001b[1;32m---> 13\u001b[1;33m \u001b[0marcpy\u001b[0m\u001b[1;33m.\u001b[0m\u001b[0mmanagement\u001b[0m\u001b[1;33m.\u001b[0m\u001b[0mClip\u001b[0m\u001b[1;33m(\u001b[0m\u001b[0mdem\u001b[0m\u001b[1;33m,\u001b[0m \u001b[0mextent\u001b[0m\u001b[1;33m,\u001b[0m \u001b[0mclip_dem\u001b[0m\u001b[1;33m,\u001b[0m \u001b[0minund_polygon\u001b[0m\u001b[1;33m,\u001b[0m \u001b[0mnodata_value\u001b[0m\u001b[1;33m=\u001b[0m \u001b[1;34m\"-9999\"\u001b[0m\u001b[1;33m,\u001b[0m \u001b[0mclipping_geometry\u001b[0m\u001b[1;33m=\u001b[0m\u001b[1;34m\"ClippingGeometry\"\u001b[0m\u001b[1;33m,\u001b[0m \u001b[0mmaintain_clipping_extent\u001b[0m\u001b[1;33m=\u001b[0m\u001b[1;34m\"NO_MAINTAIN_EXTENT\"\u001b[0m\u001b[1;33m)\u001b[0m\u001b[1;33m\u001b[0m\u001b[1;33m\u001b[0m\u001b[0m\n\u001b[0m\u001b[0;32m     14\u001b[0m \u001b[0mclip_dem_ras\u001b[0m \u001b[1;33m=\u001b[0m \u001b[0marcpy\u001b[0m\u001b[1;33m.\u001b[0m\u001b[0mRaster\u001b[0m\u001b[1;33m(\u001b[0m\u001b[0mclip_dem\u001b[0m\u001b[1;33m)\u001b[0m\u001b[1;33m\u001b[0m\u001b[1;33m\u001b[0m\u001b[0m\n",
      "\u001b[1;32mC:\\Program Files\\ArcGIS\\Pro\\Resources\\ArcPy\\arcpy\\management.py\u001b[0m in \u001b[0;36mClip\u001b[1;34m(in_raster, rectangle, out_raster, in_template_dataset, nodata_value, clipping_geometry, maintain_clipping_extent)\u001b[0m\n\u001b[0;32m  19510\u001b[0m         \u001b[1;32mreturn\u001b[0m \u001b[0mretval\u001b[0m\u001b[1;33m\u001b[0m\u001b[1;33m\u001b[0m\u001b[0m\n\u001b[0;32m  19511\u001b[0m     \u001b[1;32mexcept\u001b[0m \u001b[0mException\u001b[0m \u001b[1;32mas\u001b[0m \u001b[0me\u001b[0m\u001b[1;33m:\u001b[0m\u001b[1;33m\u001b[0m\u001b[1;33m\u001b[0m\u001b[0m\n\u001b[1;32m> 19512\u001b[1;33m         \u001b[1;32mraise\u001b[0m \u001b[0me\u001b[0m\u001b[1;33m\u001b[0m\u001b[1;33m\u001b[0m\u001b[0m\n\u001b[0m\u001b[0;32m  19513\u001b[0m \u001b[1;33m\u001b[0m\u001b[0m\n\u001b[0;32m  19514\u001b[0m \u001b[1;33m@\u001b[0m\u001b[0mgptooldoc\u001b[0m\u001b[1;33m(\u001b[0m\u001b[1;34m'CompositeBands_management'\u001b[0m\u001b[1;33m,\u001b[0m \u001b[1;32mNone\u001b[0m\u001b[1;33m)\u001b[0m\u001b[1;33m\u001b[0m\u001b[1;33m\u001b[0m\u001b[0m\n",
      "\u001b[1;32mC:\\Program Files\\ArcGIS\\Pro\\Resources\\ArcPy\\arcpy\\management.py\u001b[0m in \u001b[0;36mClip\u001b[1;34m(in_raster, rectangle, out_raster, in_template_dataset, nodata_value, clipping_geometry, maintain_clipping_extent)\u001b[0m\n\u001b[0;32m  19507\u001b[0m     \u001b[1;32mfrom\u001b[0m \u001b[0marcpy\u001b[0m\u001b[1;33m.\u001b[0m\u001b[0marcobjects\u001b[0m\u001b[1;33m.\u001b[0m\u001b[0marcobjectconversion\u001b[0m \u001b[1;32mimport\u001b[0m \u001b[0mconvertArcObjectToPythonObject\u001b[0m\u001b[1;33m\u001b[0m\u001b[1;33m\u001b[0m\u001b[0m\n\u001b[0;32m  19508\u001b[0m     \u001b[1;32mtry\u001b[0m\u001b[1;33m:\u001b[0m\u001b[1;33m\u001b[0m\u001b[1;33m\u001b[0m\u001b[0m\n\u001b[1;32m> 19509\u001b[1;33m         \u001b[0mretval\u001b[0m \u001b[1;33m=\u001b[0m \u001b[0mconvertArcObjectToPythonObject\u001b[0m\u001b[1;33m(\u001b[0m\u001b[0mgp\u001b[0m\u001b[1;33m.\u001b[0m\u001b[0mClip_management\u001b[0m\u001b[1;33m(\u001b[0m\u001b[1;33m*\u001b[0m\u001b[0mgp_fixargs\u001b[0m\u001b[1;33m(\u001b[0m\u001b[1;33m(\u001b[0m\u001b[0min_raster\u001b[0m\u001b[1;33m,\u001b[0m \u001b[0mrectangle\u001b[0m\u001b[1;33m,\u001b[0m \u001b[0mout_raster\u001b[0m\u001b[1;33m,\u001b[0m \u001b[0min_template_dataset\u001b[0m\u001b[1;33m,\u001b[0m \u001b[0mnodata_value\u001b[0m\u001b[1;33m,\u001b[0m \u001b[0mclipping_geometry\u001b[0m\u001b[1;33m,\u001b[0m \u001b[0mmaintain_clipping_extent\u001b[0m\u001b[1;33m)\u001b[0m\u001b[1;33m,\u001b[0m \u001b[1;32mTrue\u001b[0m\u001b[1;33m)\u001b[0m\u001b[1;33m)\u001b[0m\u001b[1;33m)\u001b[0m\u001b[1;33m\u001b[0m\u001b[1;33m\u001b[0m\u001b[0m\n\u001b[0m\u001b[0;32m  19510\u001b[0m         \u001b[1;32mreturn\u001b[0m \u001b[0mretval\u001b[0m\u001b[1;33m\u001b[0m\u001b[1;33m\u001b[0m\u001b[0m\n\u001b[0;32m  19511\u001b[0m     \u001b[1;32mexcept\u001b[0m \u001b[0mException\u001b[0m \u001b[1;32mas\u001b[0m \u001b[0me\u001b[0m\u001b[1;33m:\u001b[0m\u001b[1;33m\u001b[0m\u001b[1;33m\u001b[0m\u001b[0m\n",
      "\u001b[1;32mC:\\Program Files\\ArcGIS\\Pro\\Resources\\ArcPy\\arcpy\\geoprocessing\\_base.py\u001b[0m in \u001b[0;36m<lambda>\u001b[1;34m(*args)\u001b[0m\n\u001b[0;32m    510\u001b[0m         \u001b[0mval\u001b[0m \u001b[1;33m=\u001b[0m \u001b[0mgetattr\u001b[0m\u001b[1;33m(\u001b[0m\u001b[0mself\u001b[0m\u001b[1;33m.\u001b[0m\u001b[0m_gp\u001b[0m\u001b[1;33m,\u001b[0m \u001b[0mattr\u001b[0m\u001b[1;33m)\u001b[0m\u001b[1;33m\u001b[0m\u001b[1;33m\u001b[0m\u001b[0m\n\u001b[0;32m    511\u001b[0m         \u001b[1;32mif\u001b[0m \u001b[0mcallable\u001b[0m\u001b[1;33m(\u001b[0m\u001b[0mval\u001b[0m\u001b[1;33m)\u001b[0m\u001b[1;33m:\u001b[0m\u001b[1;33m\u001b[0m\u001b[1;33m\u001b[0m\u001b[0m\n\u001b[1;32m--> 512\u001b[1;33m             \u001b[1;32mreturn\u001b[0m \u001b[1;32mlambda\u001b[0m \u001b[1;33m*\u001b[0m\u001b[0margs\u001b[0m\u001b[1;33m:\u001b[0m \u001b[0mval\u001b[0m\u001b[1;33m(\u001b[0m\u001b[1;33m*\u001b[0m\u001b[0mgp_fixargs\u001b[0m\u001b[1;33m(\u001b[0m\u001b[0margs\u001b[0m\u001b[1;33m,\u001b[0m \u001b[1;32mTrue\u001b[0m\u001b[1;33m)\u001b[0m\u001b[1;33m)\u001b[0m\u001b[1;33m\u001b[0m\u001b[1;33m\u001b[0m\u001b[0m\n\u001b[0m\u001b[0;32m    513\u001b[0m         \u001b[1;32melse\u001b[0m\u001b[1;33m:\u001b[0m\u001b[1;33m\u001b[0m\u001b[1;33m\u001b[0m\u001b[0m\n\u001b[0;32m    514\u001b[0m             \u001b[1;32mreturn\u001b[0m \u001b[0mconvertArcObjectToPythonObject\u001b[0m\u001b[1;33m(\u001b[0m\u001b[0mval\u001b[0m\u001b[1;33m)\u001b[0m\u001b[1;33m\u001b[0m\u001b[1;33m\u001b[0m\u001b[0m\n",
      "\u001b[1;31mRuntimeError\u001b[0m: Object: Error in executing tool"
     ]
    }
   ],
   "source": [
    "# clean and create necessary variables\n",
    "dem = arcpy.Raster(dem_name)\n",
    "cell_size = dem.meanCellHeight\n",
    "# Proper string representation of dem extent to be accepted by Clip_management method\n",
    "extent = '{} {} {} {}'.format(dem.extent.XMin, dem.extent.YMin, dem.extent.XMax, dem.extent.YMax)\n",
    "\n",
    "# Dont run these if cost_raster and clip_dem are already defined above\n",
    "cost_raster = (((dem <= 0)*999)+1)\n",
    "cost_raster.save('CostRaster.tif')\n",
    "\n",
    "clip_dem = 'ClipDEM'\n",
    "\n",
    "arcpy.management.Clip(dem, extent, clip_dem, inund_polygon, nodata_value= \"-9999\", clipping_geometry=\"ClippingGeometry\", maintain_clipping_extent=\"NO_MAINTAIN_EXTENT\")\n",
    "clip_dem_ras = arcpy.Raster(clip_dem)"
   ]
  },
  {
   "cell_type": "code",
   "execution_count": 13,
   "metadata": {},
   "outputs": [
    {
     "ename": "ValueError",
     "evalue": "Input shapes do not overlap raster.",
     "output_type": "error",
     "traceback": [
      "\u001b[1;31m---------------------------------------------------------------------------\u001b[0m",
      "\u001b[1;31mWindowError\u001b[0m                               Traceback (most recent call last)",
      "\u001b[1;32m~\\AppData\\Roaming\\Python\\Python311\\site-packages\\rasterio\\mask.py\u001b[0m in \u001b[0;36mraster_geometry_mask\u001b[1;34m(dataset, shapes, all_touched, invert, crop, pad, pad_width)\u001b[0m\n\u001b[0;32m     79\u001b[0m     \u001b[1;32mtry\u001b[0m\u001b[1;33m:\u001b[0m\u001b[1;33m\u001b[0m\u001b[1;33m\u001b[0m\u001b[0m\n\u001b[1;32m---> 80\u001b[1;33m         \u001b[0mwindow\u001b[0m \u001b[1;33m=\u001b[0m \u001b[0mgeometry_window\u001b[0m\u001b[1;33m(\u001b[0m\u001b[0mdataset\u001b[0m\u001b[1;33m,\u001b[0m \u001b[0mshapes\u001b[0m\u001b[1;33m,\u001b[0m \u001b[0mpad_x\u001b[0m\u001b[1;33m=\u001b[0m\u001b[0mpad_x\u001b[0m\u001b[1;33m,\u001b[0m \u001b[0mpad_y\u001b[0m\u001b[1;33m=\u001b[0m\u001b[0mpad_y\u001b[0m\u001b[1;33m)\u001b[0m\u001b[1;33m\u001b[0m\u001b[1;33m\u001b[0m\u001b[0m\n\u001b[0m\u001b[0;32m     81\u001b[0m \u001b[1;33m\u001b[0m\u001b[0m\n",
      "\u001b[1;32m~\\AppData\\Roaming\\Python\\Python311\\site-packages\\rasterio\\features.py\u001b[0m in \u001b[0;36mgeometry_window\u001b[1;34m(dataset, shapes, pad_x, pad_y, north_up, rotated, pixel_precision, boundless)\u001b[0m\n\u001b[0;32m    476\u001b[0m     \u001b[1;32mif\u001b[0m \u001b[1;32mnot\u001b[0m \u001b[0mboundless\u001b[0m\u001b[1;33m:\u001b[0m\u001b[1;33m\u001b[0m\u001b[1;33m\u001b[0m\u001b[0m\n\u001b[1;32m--> 477\u001b[1;33m         \u001b[0mwindow\u001b[0m \u001b[1;33m=\u001b[0m \u001b[0mwindow\u001b[0m\u001b[1;33m.\u001b[0m\u001b[0mintersection\u001b[0m\u001b[1;33m(\u001b[0m\u001b[0mraster_window\u001b[0m\u001b[1;33m)\u001b[0m\u001b[1;33m\u001b[0m\u001b[1;33m\u001b[0m\u001b[0m\n\u001b[0m\u001b[0;32m    478\u001b[0m \u001b[1;33m\u001b[0m\u001b[0m\n",
      "\u001b[1;32m~\\AppData\\Roaming\\Python\\Python311\\site-packages\\rasterio\\windows.py\u001b[0m in \u001b[0;36mintersection\u001b[1;34m(self, other)\u001b[0m\n\u001b[0;32m    774\u001b[0m         \"\"\"\n\u001b[1;32m--> 775\u001b[1;33m         \u001b[1;32mreturn\u001b[0m \u001b[0mintersection\u001b[0m\u001b[1;33m(\u001b[0m\u001b[1;33m[\u001b[0m\u001b[0mself\u001b[0m\u001b[1;33m,\u001b[0m \u001b[0mother\u001b[0m\u001b[1;33m]\u001b[0m\u001b[1;33m)\u001b[0m\u001b[1;33m\u001b[0m\u001b[1;33m\u001b[0m\u001b[0m\n\u001b[0m",
      "\u001b[1;32m~\\AppData\\Roaming\\Python\\Python311\\site-packages\\rasterio\\windows.py\u001b[0m in \u001b[0;36mwrapper\u001b[1;34m(*args, **kwargs)\u001b[0m\n\u001b[0;32m    124\u001b[0m         \u001b[1;32mif\u001b[0m \u001b[0mlen\u001b[0m\u001b[1;33m(\u001b[0m\u001b[0margs\u001b[0m\u001b[1;33m)\u001b[0m \u001b[1;33m==\u001b[0m \u001b[1;36m1\u001b[0m \u001b[1;32mand\u001b[0m \u001b[0misinstance\u001b[0m\u001b[1;33m(\u001b[0m\u001b[0margs\u001b[0m\u001b[1;33m[\u001b[0m\u001b[1;36m0\u001b[0m\u001b[1;33m]\u001b[0m\u001b[1;33m,\u001b[0m \u001b[0mIterable\u001b[0m\u001b[1;33m)\u001b[0m\u001b[1;33m:\u001b[0m\u001b[1;33m\u001b[0m\u001b[1;33m\u001b[0m\u001b[0m\n\u001b[1;32m--> 125\u001b[1;33m             \u001b[1;32mreturn\u001b[0m \u001b[0mfunction\u001b[0m\u001b[1;33m(\u001b[0m\u001b[1;33m*\u001b[0m\u001b[0margs\u001b[0m\u001b[1;33m[\u001b[0m\u001b[1;36m0\u001b[0m\u001b[1;33m]\u001b[0m\u001b[1;33m)\u001b[0m\u001b[1;33m\u001b[0m\u001b[1;33m\u001b[0m\u001b[0m\n\u001b[0m\u001b[0;32m    126\u001b[0m         \u001b[1;32melse\u001b[0m\u001b[1;33m:\u001b[0m\u001b[1;33m\u001b[0m\u001b[1;33m\u001b[0m\u001b[0m\n",
      "\u001b[1;32m~\\AppData\\Roaming\\Python\\Python311\\site-packages\\rasterio\\windows.py\u001b[0m in \u001b[0;36mintersection\u001b[1;34m(*windows)\u001b[0m\n\u001b[0;32m    238\u001b[0m     \"\"\"\n\u001b[1;32m--> 239\u001b[1;33m     \u001b[1;32mreturn\u001b[0m \u001b[0mfunctools\u001b[0m\u001b[1;33m.\u001b[0m\u001b[0mreduce\u001b[0m\u001b[1;33m(\u001b[0m\u001b[0m_intersection\u001b[0m\u001b[1;33m,\u001b[0m \u001b[0mwindows\u001b[0m\u001b[1;33m)\u001b[0m\u001b[1;33m\u001b[0m\u001b[1;33m\u001b[0m\u001b[0m\n\u001b[0m\u001b[0;32m    240\u001b[0m \u001b[1;33m\u001b[0m\u001b[0m\n",
      "\u001b[1;32m~\\AppData\\Roaming\\Python\\Python311\\site-packages\\rasterio\\windows.py\u001b[0m in \u001b[0;36m_intersection\u001b[1;34m(w1, w2)\u001b[0m\n\u001b[0;32m    256\u001b[0m     \u001b[1;32melse\u001b[0m\u001b[1;33m:\u001b[0m\u001b[1;33m\u001b[0m\u001b[1;33m\u001b[0m\u001b[0m\n\u001b[1;32m--> 257\u001b[1;33m         \u001b[1;32mraise\u001b[0m \u001b[0mWindowError\u001b[0m\u001b[1;33m(\u001b[0m\u001b[1;34mf\"Intersection is empty {w1} {w2}\"\u001b[0m\u001b[1;33m)\u001b[0m\u001b[1;33m\u001b[0m\u001b[1;33m\u001b[0m\u001b[0m\n\u001b[0m\u001b[0;32m    258\u001b[0m \u001b[1;33m\u001b[0m\u001b[0m\n",
      "\u001b[1;31mWindowError\u001b[0m: Intersection is empty Window(col_off=-101160125893, row_off=-37310981397, width=985945985, height=572679270) Window(col_off=0, row_off=0, width=30212, height=33249)",
      "\nDuring handling of the above exception, another exception occurred:\n",
      "\u001b[1;31mValueError\u001b[0m                                Traceback (most recent call last)",
      "\u001b[1;32m~\\AppData\\Local\\Temp\\ipykernel_23816\\1678465698.py\u001b[0m in \u001b[0;36m<cell line: 0>\u001b[1;34m()\u001b[0m\n\u001b[0;32m     12\u001b[0m     \u001b[1;31m# Clip the raster with the polygon\u001b[0m\u001b[1;33m\u001b[0m\u001b[1;33m\u001b[0m\u001b[0m\n\u001b[0;32m     13\u001b[0m     \u001b[1;31m# The mask function returns an array of the clipped raster and the affine transform of the clipped raster\u001b[0m\u001b[1;33m\u001b[0m\u001b[1;33m\u001b[0m\u001b[0m\n\u001b[1;32m---> 14\u001b[1;33m     \u001b[0mout_image\u001b[0m\u001b[1;33m,\u001b[0m \u001b[0mout_transform\u001b[0m \u001b[1;33m=\u001b[0m \u001b[0mmask\u001b[0m\u001b[1;33m(\u001b[0m\u001b[0msrc\u001b[0m\u001b[1;33m,\u001b[0m \u001b[0minund_polygon\u001b[0m\u001b[1;33m.\u001b[0m\u001b[0mgeometry\u001b[0m\u001b[1;33m,\u001b[0m \u001b[0mcrop\u001b[0m\u001b[1;33m=\u001b[0m\u001b[1;32mTrue\u001b[0m\u001b[1;33m,\u001b[0m \u001b[0mnodata\u001b[0m\u001b[1;33m=\u001b[0m\u001b[1;33m-\u001b[0m\u001b[1;36m9999\u001b[0m\u001b[1;33m)\u001b[0m\u001b[1;33m\u001b[0m\u001b[1;33m\u001b[0m\u001b[0m\n\u001b[0m\u001b[0;32m     15\u001b[0m \u001b[1;33m\u001b[0m\u001b[0m\n\u001b[0;32m     16\u001b[0m     \u001b[1;31m# Copy the metadata of the source raster\u001b[0m\u001b[1;33m\u001b[0m\u001b[1;33m\u001b[0m\u001b[0m\n",
      "\u001b[1;32m~\\AppData\\Roaming\\Python\\Python311\\site-packages\\rasterio\\mask.py\u001b[0m in \u001b[0;36mmask\u001b[1;34m(dataset, shapes, all_touched, invert, nodata, filled, crop, pad, pad_width, indexes)\u001b[0m\n\u001b[0;32m    176\u001b[0m             \u001b[0mnodata\u001b[0m \u001b[1;33m=\u001b[0m \u001b[1;36m0\u001b[0m\u001b[1;33m\u001b[0m\u001b[1;33m\u001b[0m\u001b[0m\n\u001b[0;32m    177\u001b[0m \u001b[1;33m\u001b[0m\u001b[0m\n\u001b[1;32m--> 178\u001b[1;33m     shape_mask, transform, window = raster_geometry_mask(\n\u001b[0m\u001b[0;32m    179\u001b[0m         \u001b[0mdataset\u001b[0m\u001b[1;33m,\u001b[0m \u001b[0mshapes\u001b[0m\u001b[1;33m,\u001b[0m \u001b[0mall_touched\u001b[0m\u001b[1;33m=\u001b[0m\u001b[0mall_touched\u001b[0m\u001b[1;33m,\u001b[0m \u001b[0minvert\u001b[0m\u001b[1;33m=\u001b[0m\u001b[0minvert\u001b[0m\u001b[1;33m,\u001b[0m \u001b[0mcrop\u001b[0m\u001b[1;33m=\u001b[0m\u001b[0mcrop\u001b[0m\u001b[1;33m,\u001b[0m\u001b[1;33m\u001b[0m\u001b[1;33m\u001b[0m\u001b[0m\n\u001b[0;32m    180\u001b[0m         pad=pad, pad_width=pad_width)\n",
      "\u001b[1;32m~\\AppData\\Roaming\\Python\\Python311\\site-packages\\rasterio\\mask.py\u001b[0m in \u001b[0;36mraster_geometry_mask\u001b[1;34m(dataset, shapes, all_touched, invert, crop, pad, pad_width)\u001b[0m\n\u001b[0;32m     84\u001b[0m         \u001b[1;31m# depending on value of crop\u001b[0m\u001b[1;33m\u001b[0m\u001b[1;33m\u001b[0m\u001b[0m\n\u001b[0;32m     85\u001b[0m         \u001b[1;32mif\u001b[0m \u001b[0mcrop\u001b[0m\u001b[1;33m:\u001b[0m\u001b[1;33m\u001b[0m\u001b[1;33m\u001b[0m\u001b[0m\n\u001b[1;32m---> 86\u001b[1;33m             \u001b[1;32mraise\u001b[0m \u001b[0mValueError\u001b[0m\u001b[1;33m(\u001b[0m\u001b[1;34m'Input shapes do not overlap raster.'\u001b[0m\u001b[1;33m)\u001b[0m\u001b[1;33m\u001b[0m\u001b[1;33m\u001b[0m\u001b[0m\n\u001b[0m\u001b[0;32m     87\u001b[0m         \u001b[1;32melse\u001b[0m\u001b[1;33m:\u001b[0m\u001b[1;33m\u001b[0m\u001b[1;33m\u001b[0m\u001b[0m\n\u001b[0;32m     88\u001b[0m             warnings.warn('shapes are outside bounds of raster. '\n",
      "\u001b[1;31mValueError\u001b[0m: Input shapes do not overlap raster."
     ]
    }
   ],
   "source": [
    "#  replacement of the above code with the following code\n",
    "\n",
    "import geopandas as gpd\n",
    "import rasterio\n",
    "from rasterio.mask import mask\n",
    "import numpy as np\n",
    "\n",
    "\n",
    "\n",
    "# Open the raster file\n",
    "with rasterio.open(dem_name) as src:\n",
    "    # Clip the raster with the polygon\n",
    "    # The mask function returns an array of the clipped raster and the affine transform of the clipped raster\n",
    "    out_image, out_transform = mask(src, inund_polygon.geometry, crop=True, nodata=-9999)\n",
    "    \n",
    "    # Copy the metadata of the source raster\n",
    "    out_meta = src.meta.copy()\n",
    "    \n",
    "    # Update the metadata with new details (transform, height, width, nodata value)\n",
    "    out_meta.update({\"driver\": \"GTiff\",\n",
    "                     \"height\": out_image.shape[1],\n",
    "                     \"width\": out_image.shape[2],\n",
    "                     \"transform\": out_transform,\n",
    "                     \"nodata\": -9999})\n",
    "\n",
    "# Write the clipped raster to a new file\n",
    "with rasterio.open('C:/Users/Lyn/Documents/Programming/Python_codes/Impact_Map_Forecasting/Input_files/demclip.tif', \"w\", **out_meta) as dest:\n",
    "    dest.write(out_image)"
   ]
  },
  {
   "cell_type": "code",
   "execution_count": null,
   "metadata": {},
   "outputs": [],
   "source": [
    "# Calculate Boundary Raster\n",
    "arcpy.env.overwriteOutput = True\n",
    "polyline = infolder + '/polyline.shp'\n",
    "arcpy.PolygonToLine_management(inund_polygon, polyline)\n",
    "# Convert polyline to raster\n",
    "with arcpy.EnvManager(snapRaster=clip_dem_ras):\n",
    "    arcpy.conversion.PolylineToRaster(polyline, 'FID', 'linerast15', \"MAXIMUM_LENGTH\", \"NONE\", cell_size)\n",
    "raster_polyline = arcpy.Raster('linerast15')\n",
    "raster_polyline.save(\"rstr_poly\")\n",
    "# The input whose values will be used as the output cell values if the condition is false.\n",
    "inFalseConstant = '#'\n",
    "where_clause = 'VALUE >= 0'\n",
    "#Extract the boundary cells elevation from DEM\n",
    "boundary = arcpy.sa.Con(raster_polyline, dem, inFalseConstant, where_clause)\n",
    "# boundary.save('boundary1')\n",
    "#Smooth boundary raster\n",
    "for i in range(iterations):\n",
    "    OutRasTemp = arcpy.sa.FocalStatistics(boundary, \"Rectangle 5 5 CELL\", 'MEAN', 'DATA')\n",
    "    boundary = arcpy.sa.Con(raster_polyline, OutRasTemp, inFalseConstant, where_clause)\n",
    "    boundary.save('boundary'+str(i+1))\n",
    "#Identify and remove ocean boundary cells\n",
    "OutRasTemp = arcpy.sa.FocalStatistics(dem, 'Circle 2 CELL', 'MINIMUM', 'DATA') \n",
    "whereClause2 = 'VALUE > 0'\n",
    "boundary = arcpy.sa.Con(OutRasTemp, boundary, inFalseConstant, whereClause2)\n",
    "#boundary.save(\"boundaryAfterOcean\")\n",
    "if SlopeFiltering:\n",
    "#calculate topo slope\n",
    "    print('Calculating Slope')\n",
    "    extent_clip = '{} {} {} {}'.format(boundary.extent.XMin, boundary.extent.YMin, boundary.extent.XMax, boundary.extent.YMax)\n",
    "    with arcpy.EnvManager(extent=extent_clip):\n",
    "        out_slope = arcpy.sa.Slope(dem, \"PERCENT_RISE\", 1, \"GEODESIC\", \"METER\")\n",
    "        out_slope.save(\"Slope_m\")\n",
    "#Remove erroneous boundary cells \n",
    "    whereClause_slope = 'VALUE > ' + str(SlopeThreshold)\n",
    "    boundary = arcpy.sa.Con(out_slope, boundary, inFalseConstant, whereClause_slope)\n",
    "boundary.save(\"boundFinal\")\n",
    "print('Finished calculating the boundary raster')"
   ]
  },
  {
   "cell_type": "code",
   "execution_count": null,
   "metadata": {},
   "outputs": [],
   "source": [
    "# Calculate water depth \n",
    "\n",
    "MULTIPLIER = 10000\n",
    "boundary_int = arcpy.sa.Int(boundary * MULTIPLIER)\n",
    "#boundary_int.save(\"boundary_int\")\n",
    "print('Running cost allocation')\n",
    "with arcpy.EnvManager(snapRaster=None, extent=\"DEFAULT\", mask=clip_dem):\n",
    "    cost_alloc = arcpy.sa.CostAllocation(boundary_int, cost_raster, '#', '#', 'Value')\n",
    "\n",
    "# Divide the result from the cost allocation function using the same constant used to create the integer\n",
    "# representation of the boundary\n",
    "cost_alloc = arcpy.sa.Float(cost_alloc) / MULTIPLIER\n",
    "print('Cost Allocation raster generated')\n",
    "print('Calculating estimated water depth')\n",
    "water_depth = (cost_alloc - clip_dem_ras)\n",
    "# Remove estimated water depths below 0 and change them to 0\n",
    "water_depth = arcpy.sa.Con(water_depth > 0, water_depth,\"#\")"
   ]
  },
  {
   "cell_type": "code",
   "execution_count": null,
   "metadata": {},
   "outputs": [],
   "source": [
    "# Run a low-pass filter\n",
    "# ie smooth the water depth raster\n",
    "print('Running low-pass Filter')\n",
    "water_depth_filtered = arcpy.sa.Filter(water_depth, 'LOW', 'DATA')\n",
    "waterDepthFilter2 = arcpy.sa.Con(clip_dem_ras, water_depth_filtered, '#', 'VALUE > 0')\n",
    "#waterDepthFilter2.save(WaterDepthOutput+'_filtered')\n",
    "print('Finished low-pass Filter calculation')\n",
    "waterDepthFilter2"
   ]
  },
  {
   "cell_type": "code",
   "execution_count": null,
   "metadata": {},
   "outputs": [],
   "source": [
    "# Export the waterdepth as a tif file\n",
    "# Set the output file path\n",
    "waterdepth_path = infolder + 'waterDepth.tif'\n",
    "\n",
    "# Export the waterDepthFilter2 raster as a TIFF file\n",
    "waterDepthFilter2.save(waterdepth_path)\n",
    "\n",
    "# Print the output file path\n",
    "print(f\"Water depth filter exported as: {waterdepth_path}\")"
   ]
  },
  {
   "cell_type": "markdown",
   "metadata": {},
   "source": [
    "## Run SVI using depth map"
   ]
  },
  {
   "cell_type": "markdown",
   "metadata": {},
   "source": [
    "#### Step 1: Load the ESRI Geodatabase and Clip the Data"
   ]
  },
  {
   "cell_type": "code",
   "execution_count": null,
   "metadata": {},
   "outputs": [],
   "source": [
    "import geopandas as gpd\n",
    "from shapely.geometry import box\n",
    "import matplotlib.pyplot as plt\n",
    "import numpy as np\n",
    "import matplotlib.colors as colors\n",
    "import matplotlib.colorbar as colorbar\n",
    "import rasterio\n",
    "from rasterio.features import rasterize\n",
    "from rasterio.plot import show\n",
    "import folium\n",
    "from rasterio.warp import calculate_default_transform, reproject, Resampling\n",
    "from matplotlib.colors import Normalize\n",
    "from rasterio.transform import from_bounds\n",
    "from osgeo import gdal, ogr, osr\n",
    "import os"
   ]
  },
  {
   "cell_type": "markdown",
   "metadata": {},
   "source": [
    "# Caculate the Impact "
   ]
  },
  {
   "cell_type": "markdown",
   "metadata": {},
   "source": [
    "#### Step 1: read the svi raster and fim raster"
   ]
  },
  {
   "cell_type": "code",
   "execution_count": null,
   "metadata": {},
   "outputs": [],
   "source": [
    "import rasterio\n",
    "\n",
    "# Define the paths to the raster files - same as the output above\n",
    "svi_raster_path = svi\n",
    "fim_raster_path = waterdepth_path\n",
    "\n",
    "def check_raster_properties(raster_path):\n",
    "    with rasterio.open(raster_path) as src:\n",
    "        print(f\"Properties of {raster_path}:\")\n",
    "        print(f\" CRS: {src.crs}\")\n",
    "        print(f\" Cell size: {src.res}\")\n",
    "        print(f\" Width: {src.width}, Height: {src.height}\")\n",
    "        print(f\" Bounds: {src.bounds}\")\n",
    "        print()\n",
    "\n",
    "# Read and check properties of SVI raster\n",
    "check_raster_properties(svi_raster_path)\n",
    "\n",
    "# Read and check properties of FIM raster\n",
    "check_raster_properties(fim_raster_path)\n"
   ]
  },
  {
   "cell_type": "markdown",
   "metadata": {},
   "source": [
    "#### Step 2: Reproject and Resample SVI Raster\n",
    "Skip this if they have same projection and cell size"
   ]
  },
  {
   "cell_type": "markdown",
   "metadata": {},
   "source": [
    "##### make sure that the svi map has the same crs and cell size of fim map"
   ]
  },
  {
   "cell_type": "code",
   "execution_count": null,
   "metadata": {},
   "outputs": [],
   "source": [
    "import os\n",
    "from osgeo import gdal\n",
    "import rasterio\n",
    "\n",
    "# Define the paths to the raster files\n",
    "aligned_svi_raster_path = infolder + 'aligned_svi_raster2.tif'\n",
    "\n",
    "# Open the FIM raster to get the projection, geotransform, and size\n",
    "fim_ds = gdal.Open(fim_raster_path)\n",
    "if fim_ds is None:\n",
    "    raise RuntimeError(f\"Failed to open FIM raster {fim_raster_path}\")\n",
    "\n",
    "fim_proj = fim_ds.GetProjection()\n",
    "fim_geotransform = fim_ds.GetGeoTransform()\n",
    "fim_width = fim_ds.RasterXSize\n",
    "fim_height = fim_ds.RasterYSize\n",
    "\n",
    "print(f\"FIM Raster Properties:\\n CRS: {fim_proj}\\n Geotransform: {fim_geotransform}\\n Width: {fim_width}, Height: {fim_height}\")\n",
    "\n",
    "# Reproject and resample the SVI raster to match the FIM raster\n",
    "warp_options = gdal.WarpOptions(\n",
    "    format='GTiff',\n",
    "    outputBounds=(fim_geotransform[0], fim_geotransform[3] + fim_height * fim_geotransform[5], fim_geotransform[0] + fim_width * fim_geotransform[1], fim_geotransform[3]),\n",
    "    width=fim_width,\n",
    "    height=fim_height,\n",
    "    dstSRS=fim_proj,\n",
    "    xRes=fim_geotransform[1],\n",
    "    yRes=-fim_geotransform[5],\n",
    "    resampleAlg=gdal.GRA_Bilinear,\n",
    "    targetAlignedPixels=True\n",
    ")\n",
    "\n",
    "print(\"Warp options set.\")\n",
    "\n",
    "aligned_svi_raster = gdal.Warp(aligned_svi_raster_path, svi_raster_path, options=warp_options)\n",
    "if aligned_svi_raster is None:\n",
    "    raise RuntimeError(f\"gdal.Warp failed to create {aligned_svi_raster_path}\")\n",
    "\n",
    "print(\"SVI raster has been reprojected and resampled to match the FIM raster.\")\n",
    "\n",
    "# Verify the properties of the aligned SVI raster\n",
    "def check_raster_properties(raster_path):\n",
    "    with rasterio.open(raster_path) as src:\n",
    "        print(f\"Properties of {raster_path}:\")\n",
    "        print(f\" CRS: {src.crs}\")\n",
    "        print(f\" Cell size: {src.res}\")\n",
    "        print(f\" Width: {src.width}, Height: {src.height}\")\n",
    "        print(f\" Bounds: {src.bounds}\")\n",
    "        print()\n",
    "\n",
    "# Check properties of the aligned SVI raster\n",
    "check_raster_properties(aligned_svi_raster_path)\n"
   ]
  },
  {
   "cell_type": "markdown",
   "metadata": {},
   "source": [
    "Reclassify fim"
   ]
  },
  {
   "cell_type": "code",
   "execution_count": null,
   "metadata": {},
   "outputs": [],
   "source": [
    "import numpy as np\n",
    "import rasterio\n",
    "\n",
    "def reclassify_fim(input_path, output_path):\n",
    "    with rasterio.open(input_path) as src:\n",
    "        data = src.read(1).astype('float32')\n",
    "        nodata = src.nodata\n",
    "\n",
    "        if nodata is not None:\n",
    "            data = np.ma.masked_equal(data, nodata)\n",
    "        \n",
    "        # Reclassify the FIM data\n",
    "        reclassified_data = np.digitize(data, bins=[0.01, 0.5, 1, 2], right=True)\n",
    "        reclassified_data = np.where(data == 0, 0, reclassified_data)  # Class 0 for non-flooded areas\n",
    "\n",
    "        # Preserve nodata values\n",
    "        reclassified_data = np.ma.filled(reclassified_data, nodata)\n",
    "\n",
    "        meta = src.meta\n",
    "        meta.update(dtype='float32', nodata=-9999)\n",
    "\n",
    "        with rasterio.open(output_path, 'w', **meta) as dst:\n",
    "            dst.write(reclassified_data.astype('float32'), 1)\n",
    "\n",
    "\n",
    "reclassified_fim_path = infolder + 'aligned_fim.tif'\n",
    "\n",
    "reclassify_fim(fim_raster_path, reclassified_fim_path)\n",
    "print(\"Reclassified FIM raster has been saved.\")\n"
   ]
  },
  {
   "cell_type": "markdown",
   "metadata": {},
   "source": [
    "Create impact map"
   ]
  },
  {
   "cell_type": "code",
   "execution_count": null,
   "metadata": {},
   "outputs": [],
   "source": [
    "def multiply_rasters(svi_path, fim_path, output_path):\n",
    "    with rasterio.open(svi_path) as svi_src:\n",
    "        svi_data = svi_src.read(1).astype('float32')\n",
    "        svi_nodata = svi_src.nodata\n",
    "\n",
    "    with rasterio.open(fim_path) as fim_src:\n",
    "        fim_data = fim_src.read(1).astype('float32')\n",
    "        fim_meta = fim_src.meta\n",
    "        fim_nodata = fim_src.nodata\n",
    "\n",
    "    if svi_data.shape != fim_data.shape:\n",
    "        raise ValueError(\"The rasters do not have the same shape.\")\n",
    "\n",
    "    # Ensure that nodata values are handled correctly\n",
    "    nodata_value = -9999\n",
    "    svi_data = np.where(svi_data == svi_nodata, np.nan, svi_data)\n",
    "    fim_data = np.where(fim_data == fim_nodata, np.nan, fim_data)\n",
    "\n",
    "    # Multiply the rasters to get the impact map, ignoring NaN values\n",
    "    impact_data = np.where(np.isnan(svi_data) | np.isnan(fim_data), nodata_value, svi_data * fim_data)\n",
    "\n",
    "    # Save the impact map to a new raster file\n",
    "    impact_meta = fim_meta.copy()\n",
    "    impact_meta.update({\n",
    "        'dtype': 'float32',\n",
    "        'nodata': nodata_value\n",
    "    })\n",
    "\n",
    "    with rasterio.open(output_path, 'w', **impact_meta) as impact_dst:\n",
    "        impact_dst.write(impact_data.astype('float32'), 1)\n",
    "\n",
    "svi_raster_path = svi\n",
    "impact_raster_path = infolder + 'impact_raster.tif'\n",
    "\n",
    "multiply_rasters(svi_raster_path, reclassified_fim_path, impact_raster_path)\n",
    "print(\"Impact map has been saved.\")\n"
   ]
  },
  {
   "cell_type": "markdown",
   "metadata": {},
   "source": [
    "Mask 0s in the impact map"
   ]
  },
  {
   "cell_type": "code",
   "execution_count": null,
   "metadata": {},
   "outputs": [],
   "source": [
    "import matplotlib.pyplot as plt\n",
    "from matplotlib.colors import Normalize\n",
    "\n",
    "def mask_zeros(input_path, output_path):\n",
    "    with rasterio.open(input_path) as src:\n",
    "        data = src.read(1).astype('float32')\n",
    "        nodata = src.nodata\n",
    "\n",
    "        masked_data = np.where(data == 0, nodata, data)\n",
    "\n",
    "        meta = src.meta\n",
    "        meta.update(dtype='float32', nodata=nodata)\n",
    "\n",
    "        with rasterio.open(output_path, 'w', **meta) as dst:\n",
    "            dst.write(masked_data.astype('float32'), 1)\n",
    "\n",
    "\n",
    "masked_impact_raster_path = infolder + 'masked_impact_raster.tif'\n",
    "\n",
    "mask_zeros(impact_raster_path, masked_impact_raster_path)\n",
    "print(\"Masked impact map has been saved.\")\n",
    "\n",
    "def plot_raster(ax, raster_path, title):\n",
    "    with rasterio.open(raster_path) as src:\n",
    "        data = src.read(1)\n",
    "        nodata = src.nodata\n",
    "        if nodata is not None:\n",
    "            data = np.ma.masked_equal(data, nodata)  # Mask NoData values\n",
    "\n",
    "        img = ax.imshow(data, cmap='plasma', norm=Normalize(vmin=data.min(), vmax=data.max()))\n",
    "        ax.set_title(title)\n",
    "        ax.set_xlabel('Longitude')\n",
    "        ax.set_ylabel('Latitude')\n",
    "        return img\n",
    "\n",
    "# Create a figure with subplots\n",
    "fig, ax = plt.subplots(figsize=(10, 10))\n",
    "\n",
    "# Plot the masked impact raster\n",
    "img = plot_raster(ax, masked_impact_raster_path, \"Masked Impact Raster\")\n",
    "\n",
    "# Add colorbars with size control\n",
    "cbar = fig.colorbar(img, ax=ax, fraction=0.046, pad=0.04, shrink=0.4)\n",
    "cbar.set_label('Impact Value')\n",
    "\n",
    "# Adjust layout\n",
    "plt.tight_layout()\n",
    "plt.show()\n"
   ]
  },
  {
   "cell_type": "markdown",
   "metadata": {},
   "source": [
    "Reclassify the impact map"
   ]
  },
  {
   "cell_type": "code",
   "execution_count": null,
   "metadata": {},
   "outputs": [],
   "source": [
    "import numpy as np\n",
    "import rasterio\n",
    "import matplotlib.pyplot as plt\n",
    "from matplotlib.colors import Normalize\n",
    "\n",
    "def classify_raster(input_path, output_path):\n",
    "    with rasterio.open(input_path) as src:\n",
    "        data = src.read(1).astype('float32')\n",
    "        nodata = src.nodata\n",
    "\n",
    "        # Mask nodata values\n",
    "        data_masked = np.ma.masked_equal(data, nodata)\n",
    "        \n",
    "        # Identify the range of the data excluding nodata values\n",
    "        min_value = data_masked.min()\n",
    "        max_value = data_masked.max()\n",
    "        print(f\"Data range: {min_value} to {max_value}\")\n",
    "\n",
    "        # Classify the data into 4 equal intervals\n",
    "        bins = np.linspace(min_value, max_value, 5)  # 5 bins will create 4 intervals\n",
    "        classified_data = np.digitize(data_masked, bins, right=True)  # Digitize creates 1 to 4 classes\n",
    "\n",
    "        # Convert the classified_data mask to nodata values\n",
    "        classified_data[data_masked.mask] = nodata\n",
    "\n",
    "        print(f\"Classified data range: {np.min(classified_data)} to {np.max(classified_data)}\")\n",
    "\n",
    "        meta = src.meta\n",
    "        meta.update(dtype='float32', nodata=nodata)\n",
    "\n",
    "        with rasterio.open(output_path, 'w', **meta) as dst:\n",
    "            dst.write(classified_data.astype('float32'), 1)\n",
    "\n",
    "\n",
    "classified_impact_raster_path = infolder + 'classified_impact_raster.tif'\n",
    "\n",
    "classify_raster(masked_impact_raster_path, classified_impact_raster_path)\n",
    "print(\"Classified impact map has been saved.\")\n",
    "\n",
    "def plot_raster(ax, raster_path, title):\n",
    "    with rasterio.open(raster_path) as src:\n",
    "        data = src.read(1)\n",
    "        nodata = src.nodata\n",
    "        if nodata is not None:\n",
    "            data = np.ma.masked_equal(data, nodata)  # Mask NoData values\n",
    "\n",
    "        img = ax.imshow(data, cmap='plasma', norm=Normalize(vmin=1, vmax=4))  # Set vmin and vmax to match class values\n",
    "        ax.set_title(title)\n",
    "        ax.set_xlabel('Longitude')\n",
    "        ax.set_ylabel('Latitude')\n",
    "        return img\n",
    "\n",
    "# Create a figure with subplots\n",
    "fig, ax = plt.subplots(figsize=(10, 10))\n",
    "\n",
    "# Plot the classified impact raster\n",
    "img = plot_raster(ax, classified_impact_raster_path, \"Classified Impact Raster\")\n",
    "\n",
    "# Add colorbars with size control\n",
    "cbar = fig.colorbar(img, ax=ax, fraction=0.046, pad=0.04, shrink=0.4)\n",
    "cbar.set_label('Impact Class')\n",
    "\n",
    "# Adjust layout\n",
    "plt.tight_layout()\n",
    "plt.show()\n"
   ]
  },
  {
   "cell_type": "markdown",
   "metadata": {},
   "source": [
    "Make shapefile"
   ]
  },
  {
   "cell_type": "code",
   "execution_count": null,
   "metadata": {},
   "outputs": [],
   "source": [
    "from osgeo import gdal, ogr\n",
    "import numpy as np\n",
    "\n",
    "\n",
    "def raster_to_shapefile(raster_path, shapefile_path):\n",
    "    # Open the reclassified raster\n",
    "    src_ds = gdal.Open(raster_path)\n",
    "    if src_ds is None:\n",
    "        raise RuntimeError(f\"Failed to open raster {raster_path}\")\n",
    "    \n",
    "    # Get the raster band\n",
    "    src_band = src_ds.GetRasterBand(1)\n",
    "    nodata = src_band.GetNoDataValue()\n",
    "    \n",
    "    # Create the output shapefile\n",
    "    driver = ogr.GetDriverByName('ESRI Shapefile')\n",
    "    if driver is None:\n",
    "        raise RuntimeError(\"ESRI Shapefile driver not available.\")\n",
    "    \n",
    "    dst_ds = driver.CreateDataSource(shapefile_path)\n",
    "    if dst_ds is None:\n",
    "        raise RuntimeError(f\"Failed to create shapefile {shapefile_path}\")\n",
    "    \n",
    "    srs = ogr.osr.SpatialReference()\n",
    "    srs.ImportFromWkt(src_ds.GetProjection())\n",
    "    \n",
    "    dst_layer = dst_ds.CreateLayer('impact', srs=srs, geom_type=ogr.wkbPolygon)\n",
    "    if dst_layer is None:\n",
    "        raise RuntimeError(f\"Failed to create layer in shapefile {shapefile_path}\")\n",
    "    \n",
    "    field_defn = ogr.FieldDefn('FIV_Class', ogr.OFTInteger)\n",
    "    dst_layer.CreateField(field_defn)\n",
    "    \n",
    "    # Polygonize the raster, skipping NoData values\n",
    "    gdal.Polygonize(src_band, src_band.GetMaskBand(), dst_layer, 0, options=[\"8CONNECTED=8\"], callback=None)\n",
    "    \n",
    "    # Remove features with the NoData value\n",
    "    dst_layer.SetAttributeFilter(f\"FIV_Class = {int(nodata)}\")\n",
    "    for feature in dst_layer:\n",
    "        dst_layer.DeleteFeature(feature.GetFID())\n",
    "    dst_layer.SetAttributeFilter(None)\n",
    "    \n",
    "    # Close the datasets\n",
    "    src_ds = None\n",
    "    dst_ds = None\n",
    "\n",
    "# Path to the reclassified impact raster file\n",
    "reclassified_raster_path = classified_impact_raster_path\n",
    "shapefile_path = infolder + 'reclassified_impact_raster.shp'\n",
    "\n",
    "\n",
    "# Convert the reclassified raster to a shapefile\n",
    "raster_to_shapefile(reclassified_raster_path, shapefile_path)\n",
    "print(\"Shapefile has been created.\")\n"
   ]
  },
  {
   "cell_type": "markdown",
   "metadata": {},
   "source": [
    "add column to attribute table of FIV map to describe the severity of the vulnerability"
   ]
  },
  {
   "cell_type": "code",
   "execution_count": null,
   "metadata": {},
   "outputs": [],
   "source": [
    "from osgeo import ogr\n",
    "\n",
    "def add_vulnerability_column(shapefile_path):\n",
    "    # Open the shapefile\n",
    "    driver = ogr.GetDriverByName('ESRI Shapefile')\n",
    "    ds = driver.Open(shapefile_path, 1)  # Open in write mode\n",
    "    if ds is None:\n",
    "        raise RuntimeError(f\"Failed to open shapefile {shapefile_path}\")\n",
    "    \n",
    "    layer = ds.GetLayer()\n",
    "    \n",
    "    # Add new field for vulnerability levels\n",
    "    vulnerability_field = ogr.FieldDefn('Vuln_Level', ogr.OFTString)\n",
    "    vulnerability_field.SetWidth(32)\n",
    "    layer.CreateField(vulnerability_field)\n",
    "    \n",
    "    # Define the vulnerability levels\n",
    "    vulnerability_levels = {\n",
    "        1: \"Low Vulnerability\",\n",
    "        2: \"Medium Vulnerability\",\n",
    "        3: \"High Vulnerability\",\n",
    "        4: \"Very High Vulnerability\"    \n",
    "    }\n",
    "    \n",
    "    # Update the new field based on FIV_Class\n",
    "    for feature in layer:\n",
    "        fiv_class = feature.GetField('FIV_Class')\n",
    "        vulnerability_level = vulnerability_levels.get(fiv_class, \"Unknown\")\n",
    "        feature.SetField('Vuln_Level', vulnerability_level)\n",
    "        layer.SetFeature(feature)\n",
    "    \n",
    "    # Close the dataset\n",
    "    ds = None\n",
    "    print(\"Vulnerability level column has been added to the shapefile.\")\n",
    "\n",
    "# Path to the shapefile\n",
    "shapefile_path = infolder+'ImpactMap.shp'\n",
    "\n",
    "# Add the vulnerability level column\n",
    "add_vulnerability_column(shapefile_path)\n"
   ]
  },
  {
   "cell_type": "markdown",
   "metadata": {},
   "source": [
    "Convert to geojson and commit to github"
   ]
  },
  {
   "cell_type": "code",
   "execution_count": null,
   "metadata": {},
   "outputs": [],
   "source": [
    "# Convert to GeoJSON\n",
    "\n",
    "# Step 1: Load the shapefile\n",
    "gdf = gpd.read_file(shapefile_path)\n",
    "\n",
    "# Step 2: Convert to GeoJSON\n",
    "geojson_str = gdf.to_json()\n",
    "\n",
    "# Step 3: Save the GeoJSON to a file\n",
    "output_path = infolder+'ImpactMap.geojson'  # Replace with your desired output file name\n",
    "with open(output_path, 'w') as f:\n",
    "    f.write(geojson_str)"
   ]
  }
 ],
 "metadata": {
  "kernelspec": {
   "display_name": "Python 3",
   "language": "python",
   "name": "python3"
  },
  "language_info": {
   "codemirror_mode": {
    "name": "ipython",
    "version": 3
   },
   "file_extension": ".py",
   "mimetype": "text/x-python",
   "name": "python",
   "nbconvert_exporter": "python",
   "pygments_lexer": "ipython3",
   "version": "3.11.8"
  }
 },
 "nbformat": 4,
 "nbformat_minor": 2
}
