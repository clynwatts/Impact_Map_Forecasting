{
 "cells": [
  {
   "cell_type": "markdown",
   "metadata": {},
   "source": [
    "# Floodwater Depth Estimation Tool (FwDET) version 2.1\n",
    "Program procedure:\n",
    " 1. Flood extent polygon to polyline\n",
    " 2. Polyline to Raster - DEM extent and resolution (Env)\n",
    " 3. Con - DEM values to Raster\n",
    " 4. Euclidean Allocation - assign boundary cell elevation to nearest domain cells\n",
    " 5. Calculate water depth by deducting DEM by Euclidean Allocation\n",
    " 6. Run low-pass Filter\n",
    " \n",
    "Created by Sagy Cohen, Surface Dynamics Modeling Lab, University of Alabama\n",
    "email: sagy.cohen@ua.edu; web: http://sdml.ua.edu\n",
    "\n",
    "## Set input and output variables "
   ]
  },
  {
   "cell_type": "code",
   "execution_count": 8,
   "metadata": {},
   "outputs": [],
   "source": [
    "# use kernel arcgispro-py3 (python 3.9.16)\n",
    "import arcpy"
   ]
  },
  {
   "cell_type": "code",
   "execution_count": 9,
   "metadata": {},
   "outputs": [],
   "source": [
    "arcpy.env.overwriteOutput = True\n",
    "infolder = 'C:/Users/Lyn/Documents/Programming/Python_codes/fwdet/Forecast_test_5day/'\n",
    "\n",
    "# make a geodatabase    \n",
    "gdb_path = infolder \n",
    "# Create the geodatabase\n",
    "arcpy.CreateFileGDB_management(out_folder_path = infolder, out_name='geodatabase.gdb')\n",
    "#workspace\n",
    "ws = arcpy.env.workspace = infolder\n",
    "\n",
    "dem_name = infolder+'Houston_DEM.tif'\n",
    "inund_polygon = infolder+'clipped_extent.shp'\n",
    "#clip_dem = '' #[Optional] - If empty, the clip_dem will be calculated with the Clip_management function\n",
    "#cost_raster ='' #[Optional] - If empty, the CostRaster will be calculated below\n",
    "WaterDepthOutput = 'WaterDepth_i10_s0p5'\n",
    "iterations = 10\n",
    "SlopeFiltering = True\n",
    "SlopeThreshold = 0.5\n",
    "#WaterDepthOutput = 'WaterDepth_i{0}_s{1}'.format(iterations,SlopeThreshold)"
   ]
  },
  {
   "cell_type": "markdown",
   "metadata": {},
   "source": [
    "## Housekeeping"
   ]
  },
  {
   "cell_type": "code",
   "execution_count": 11,
   "metadata": {},
   "outputs": [],
   "source": [
    "dem = arcpy.Raster(dem_name)\n",
    "cell_size = dem.meanCellHeight\n",
    "# Proper string representation of dem extent to be accepted by Clip_management method\n",
    "extent = '{} {} {} {}'.format(dem.extent.XMin, dem.extent.YMin, dem.extent.XMax, dem.extent.YMax)\n",
    "\n",
    "# Dont run these if cost_raster and clip_dem are already defined above\n",
    "cost_raster = (((dem <= 0)*999)+1)\n",
    "cost_raster.save('CostRaster.tif')\n",
    "\n",
    "clip_dem = 'ClipDEM'\n",
    "arcpy.management.Clip(dem, extent, clip_dem, inund_polygon, nodata_value= \"-9999\", clipping_geometry=\"ClippingGeometry\", maintain_clipping_extent=\"NO_MAINTAIN_EXTENT\")\n",
    "clip_dem_ras = arcpy.Raster(clip_dem)"
   ]
  },
  {
   "cell_type": "code",
   "execution_count": 12,
   "metadata": {},
   "outputs": [
    {
     "name": "stdout",
     "output_type": "stream",
     "text": [
      "OBJECTID field exists.\n"
     ]
    }
   ],
   "source": [
    "# debugging - delete later\n",
    "import arcpy\n",
    "\n",
    "# Set the path to your polyline feature class\n",
    "polyline_feature_class = infolder+'polyline.shp'\n",
    "\n",
    "# List all fields in the feature class\n",
    "fields = arcpy.ListFields(polyline_feature_class)\n",
    "\n",
    "# Check if OBJECTID field exists\n",
    "objectid_exists = any(field.name == \"FID\" for field in fields)\n",
    "\n",
    "if not objectid_exists:\n",
    "    print(\"OBJECTID field does not exist. Consider creating a new feature class.\")\n",
    "    # Here you can add code to create a new feature class or handle the issue as needed.\n",
    "else:\n",
    "    print(\"OBJECTID field exists.\")"
   ]
  },
  {
   "cell_type": "code",
   "execution_count": null,
   "metadata": {},
   "outputs": [],
   "source": [
    "import arcpy\n",
    "\n",
    "arcpy.env.overwriteOutput = True\n",
    "polyline = infolder + '/polyline.shp'\n",
    "arcpy.PolygonToLine_management(inund_polygon, polyline)\n",
    "\n",
    "# Step 1: Add a new field to the polygon feature class and populate it\n",
    "arcpy.AddField_management(inund_polygon, \"OrigID\", \"LONG\")\n",
    "arcpy.CalculateField_management(inund_polygon, \"OrigID\", \"!OBJECTID!\", \"PYTHON3\")\n",
    "\n",
    "# Step 2: Convert polygons to lines\n",
    "arcpy.PolygonToLine_management(inund_polygon, polyline)\n",
    "\n",
    "# Step 3: Transfer attributes from polygons to lines using spatial join\n",
    "# Note: Adjust the join operation and match option as needed for your specific use case\n",
    "arcpy.SpatialJoin_analysis(polyline, inund_polygon, \"polyline_with_attributes\", \"JOIN_ONE_TO_ONE\", \"KEEP_ALL\", match_option=\"SHARE_A_LINE_SEGMENT_WITH\")\n",
    "\n",
    "# The resulting \"polyline_with_attributes\" feature class will include the OrigID field from the original polygons"
   ]
  },
  {
   "cell_type": "markdown",
   "metadata": {},
   "source": [
    "## Calculate boundary raster "
   ]
  },
  {
   "cell_type": "code",
   "execution_count": 17,
   "metadata": {},
   "outputs": [
    {
     "name": "stdout",
     "output_type": "stream",
     "text": [
      "Focal iteration 1\n",
      "Focal iteration 2\n",
      "Focal iteration 3\n",
      "Focal iteration 4\n",
      "Focal iteration 5\n",
      "Focal iteration 6\n",
      "Focal iteration 7\n",
      "Focal iteration 8\n",
      "Focal iteration 9\n",
      "Focal iteration 10\n",
      "Calculating Slope\n",
      "Finished calculating the boundary raster\n"
     ]
    }
   ],
   "source": [
    "\n",
    "print('Focal iteration '+str(i+1))arcpy.env.overwriteOutput = True\n",
    "polyline = infolder + '/polyline.shp'\n",
    "arcpy.PolygonToLine_management(inund_polygon, polyline)\n",
    "# Convert polyline to raster\n",
    "with arcpy.EnvManager(snapRaster=clip_dem_ras):\n",
    "    arcpy.conversion.PolylineToRaster(polyline, 'FID', 'linerast15', \"MAXIMUM_LENGTH\", \"NONE\", cell_size)\n",
    "raster_polyline = arcpy.Raster('linerast15')\n",
    "raster_polyline.save(\"rstr_poly\")\n",
    "# The input whose values will be used as the output cell values if the condition is false.\n",
    "inFalseConstant = '#'\n",
    "where_clause = 'VALUE >= 0'\n",
    "#Extract the boundary cells elevation from DEM\n",
    "boundary = arcpy.sa.Con(raster_polyline, dem, inFalseConstant, where_clause)\n",
    "# boundary.save('boundary1')\n",
    "#Smooth boundary raster\n",
    "for i in range(iterations):\n",
    "    OutRasTemp = arcpy.sa.FocalStatistics(boundary, \"Rectangle 5 5 CELL\", 'MEAN', 'DATA')\n",
    "    boundary = arcpy.sa.Con(raster_polyline, OutRasTemp, inFalseConstant, where_clause)\n",
    "    boundary.save('boundary'+str(i+1))\n",
    "#Identify and remove ocean boundary cells\n",
    "OutRasTemp = arcpy.sa.FocalStatistics(dem, 'Circle 2 CELL', 'MINIMUM', 'DATA') \n",
    "whereClause2 = 'VALUE > 0'\n",
    "boundary = arcpy.sa.Con(OutRasTemp, boundary, inFalseConstant, whereClause2)\n",
    "#boundary.save(\"boundaryAfterOcean\")\n",
    "if SlopeFiltering:\n",
    "#calculate topo slope\n",
    "    print('Calculating Slope')\n",
    "    extent_clip = '{} {} {} {}'.format(boundary.extent.XMin, boundary.extent.YMin, boundary.extent.XMax, boundary.extent.YMax)\n",
    "    with arcpy.EnvManager(extent=extent_clip):\n",
    "        out_slope = arcpy.sa.Slope(dem, \"PERCENT_RISE\", 1, \"GEODESIC\", \"METER\")\n",
    "        out_slope.save(\"Slope_m\")\n",
    "#Remove erroneous boundary cells \n",
    "    whereClause_slope = 'VALUE > ' + str(SlopeThreshold)\n",
    "    boundary = arcpy.sa.Con(out_slope, boundary, inFalseConstant, whereClause_slope)\n",
    "boundary.save(\"boundFinal\")\n",
    "print('Finished calculating the boundary raster')"
   ]
  },
  {
   "cell_type": "markdown",
   "metadata": {},
   "source": [
    "## Calculate the water depth raster"
   ]
  },
  {
   "cell_type": "code",
   "execution_count": 20,
   "metadata": {},
   "outputs": [
    {
     "name": "stdout",
     "output_type": "stream",
     "text": [
      "Running cost allocation\n",
      "Cost Allocation raster generated\n",
      "Calculating estimated water depth\n"
     ]
    }
   ],
   "source": [
    "MULTIPLIER = 10000\n",
    "boundary_int = arcpy.sa.Int(boundary * MULTIPLIER)\n",
    "#boundary_int.save(\"boundary_int\")\n",
    "print('Running cost allocation')\n",
    "with arcpy.EnvManager(snapRaster=None, extent=\"DEFAULT\", mask=clip_dem):\n",
    "    cost_alloc = arcpy.sa.CostAllocation(boundary_int, cost_raster, '#', '#', 'Value')\n",
    "\n",
    "# Divide the result from the cost allocation function using the same constant used to create the integer\n",
    "# representation of the boundary\n",
    "cost_alloc = arcpy.sa.Float(cost_alloc) / MULTIPLIER\n",
    "print('Cost Allocation raster generated')\n",
    "print('Calculating estimated water depth')\n",
    "water_depth = (cost_alloc - clip_dem_ras)\n",
    "# Remove estimated water depths below 0 and change them to 0\n",
    "water_depth = arcpy.sa.Con(water_depth > 0, water_depth,\"#\")\n",
    "#water_depth.save(WaterDepthOutput)\n",
    "#print('Floodwater depth computed')\n",
    "#water_depth"
   ]
  },
  {
   "cell_type": "markdown",
   "metadata": {},
   "source": [
    "## Calculate smooth water depth raster (low-pass filter)"
   ]
  },
  {
   "cell_type": "code",
   "execution_count": 1,
   "metadata": {},
   "outputs": [
    {
     "name": "stdout",
     "output_type": "stream",
     "text": [
      "Running low-pass Filter\n"
     ]
    },
    {
     "ename": "NameError",
     "evalue": "name 'arcpy' is not defined",
     "output_type": "error",
     "traceback": [
      "\u001b[1;31m---------------------------------------------------------------------------\u001b[0m",
      "\u001b[1;31mNameError\u001b[0m                                 Traceback (most recent call last)",
      "\u001b[1;32m~\\AppData\\Local\\Temp\\ipykernel_30516\\2722535362.py\u001b[0m in \u001b[0;36m<cell line: 3>\u001b[1;34m()\u001b[0m\n\u001b[0;32m      1\u001b[0m \u001b[1;31m#Run a low-pass filter\u001b[0m\u001b[1;33m\u001b[0m\u001b[1;33m\u001b[0m\u001b[0m\n\u001b[0;32m      2\u001b[0m \u001b[0mprint\u001b[0m\u001b[1;33m(\u001b[0m\u001b[1;34m'Running low-pass Filter'\u001b[0m\u001b[1;33m)\u001b[0m\u001b[1;33m\u001b[0m\u001b[1;33m\u001b[0m\u001b[0m\n\u001b[1;32m----> 3\u001b[1;33m \u001b[0mwater_depth_filtered\u001b[0m \u001b[1;33m=\u001b[0m \u001b[0marcpy\u001b[0m\u001b[1;33m.\u001b[0m\u001b[0msa\u001b[0m\u001b[1;33m.\u001b[0m\u001b[0mFilter\u001b[0m\u001b[1;33m(\u001b[0m\u001b[0mwater_depth\u001b[0m\u001b[1;33m,\u001b[0m \u001b[1;34m'LOW'\u001b[0m\u001b[1;33m,\u001b[0m \u001b[1;34m'DATA'\u001b[0m\u001b[1;33m)\u001b[0m\u001b[1;33m\u001b[0m\u001b[1;33m\u001b[0m\u001b[0m\n\u001b[0m\u001b[0;32m      4\u001b[0m \u001b[0mwaterDepthFilter2\u001b[0m \u001b[1;33m=\u001b[0m \u001b[0marcpy\u001b[0m\u001b[1;33m.\u001b[0m\u001b[0msa\u001b[0m\u001b[1;33m.\u001b[0m\u001b[0mCon\u001b[0m\u001b[1;33m(\u001b[0m\u001b[0mclip_dem_ras\u001b[0m\u001b[1;33m,\u001b[0m \u001b[0mwater_depth_filtered\u001b[0m\u001b[1;33m,\u001b[0m \u001b[1;34m'#'\u001b[0m\u001b[1;33m,\u001b[0m \u001b[1;34m'VALUE > 0'\u001b[0m\u001b[1;33m)\u001b[0m\u001b[1;33m\u001b[0m\u001b[1;33m\u001b[0m\u001b[0m\n\u001b[0;32m      5\u001b[0m \u001b[1;31m#waterDepthFilter2.save(WaterDepthOutput+'_filtered')\u001b[0m\u001b[1;33m\u001b[0m\u001b[1;33m\u001b[0m\u001b[0m\n",
      "\u001b[1;31mNameError\u001b[0m: name 'arcpy' is not defined"
     ]
    }
   ],
   "source": [
    "#Run a low-pass filter\n",
    "print('Running low-pass Filter')\n",
    "water_depth_filtered = arcpy.sa.Filter(water_depth, 'LOW', 'DATA')\n",
    "waterDepthFilter2 = arcpy.sa.Con(clip_dem_ras, water_depth_filtered, '#', 'VALUE > 0')\n",
    "#waterDepthFilter2.save(WaterDepthOutput+'_filtered')\n",
    "print('Finished low-pass Filter calculation')\n",
    "waterDepthFilter2"
   ]
  }
 ],
 "metadata": {
  "kernelspec": {
   "display_name": "Python 3",
   "language": "python",
   "name": "python3"
  },
  "language_info": {
   "codemirror_mode": {
    "name": "ipython",
    "version": 3
   },
   "file_extension": ".py",
   "mimetype": "text/x-python",
   "name": "python",
   "nbconvert_exporter": "python",
   "pygments_lexer": "ipython3",
   "version": "3.9.16"
  }
 },
 "nbformat": 4,
 "nbformat_minor": 2
}
