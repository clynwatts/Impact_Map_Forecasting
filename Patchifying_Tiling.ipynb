{
 "cells": [
  {
   "cell_type": "code",
   "execution_count": 4,
   "id": "6375eb77-5475-457e-a031-5b0034084b1d",
   "metadata": {},
   "outputs": [],
   "source": [
    "from patchify import patchify\n",
    "import rasterio\n",
    "import os\n",
    "import numpy as np\n",
    "\n",
    "patch_size = 256*6\n",
    "step = 256*6\n",
    "\n",
    "# Define a function to read raster images using rasterio\n",
    "def read_raster(file_path):\n",
    "    with rasterio.open(file_path) as src:\n",
    "        return src.read(), src.meta, src.transform\n",
    "\n",
    "# Function to save patches using rasterio\n",
    "def save_patch(data, meta, transform, patch_path):\n",
    "    meta.update({\n",
    "        \"height\": data.shape[1],\n",
    "        \"width\": data.shape[2],\n",
    "        \"transform\": transform\n",
    "    })\n",
    "    with rasterio.open(patch_path, 'w', **meta) as dst:\n",
    "        dst.write(data)\n",
    "\n",
    "mask_path = r\"D:/Hesham/CUAHSI/Geospatial/Datasets/Forecasts/Beryl/test_patch\"\n",
    "for msk_name in os.listdir(mask_path):\n",
    "    msk_path = os.path.join(mask_path, msk_name)\n",
    "    mask_data, mask_meta, mask_transform = read_raster(msk_path)  # Read mask and metadata\n",
    "\n",
    "    # Remove the band dimension for patchify if it's a single band\n",
    "    mask_patches = patchify(mask_data[0], (patch_size, patch_size), step=step)\n",
    "\n",
    "    for i in range(mask_patches.shape[0]):\n",
    "        for j in range(mask_patches.shape[1]):\n",
    "            patch = mask_patches[i, j]\n",
    "            patch = np.expand_dims(patch, axis=0)  # Add band dimension back\n",
    "\n",
    "            # Calculate the new transform for the patch\n",
    "            patch_transform = mask_transform * rasterio.Affine.translation(j * step, i * step)\n",
    "\n",
    "            patch_name = f\"mask_{msk_name}_{i}_{j}.tif\"\n",
    "            patch_path = os.path.join(mask_path, patch_name)\n",
    "            save_patch(patch, mask_meta, patch_transform, patch_path)\n",
    "\n"
   ]
  }
 ],
 "metadata": {
  "kernelspec": {
   "display_name": "Python 3 (ipykernel)",
   "language": "python",
   "name": "python3"
  },
  "language_info": {
   "codemirror_mode": {
    "name": "ipython",
    "version": 3
   },
   "file_extension": ".py",
   "mimetype": "text/x-python",
   "name": "python",
   "nbconvert_exporter": "python",
   "pygments_lexer": "ipython3",
   "version": "3.10.14"
  }
 },
 "nbformat": 4,
 "nbformat_minor": 5
}
